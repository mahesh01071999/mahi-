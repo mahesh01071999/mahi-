{
 "cells": [
  {
   "cell_type": "code",
   "execution_count": 58,
   "metadata": {},
   "outputs": [],
   "source": [
    "import numpy as np\n",
    "import pandas as pd\n",
    "import seaborn as sns\n",
    "import matplotlib.pyplot as plt\n",
    "from sklearn.linear_model import LinearRegression"
   ]
  },
  {
   "cell_type": "code",
   "execution_count": 59,
   "metadata": {},
   "outputs": [],
   "source": [
    "df=pd.read_csv(\"C:\\\\Users\\\\Expert\\\\Downloads\\\\bodyfat.csv\")"
   ]
  },
  {
   "cell_type": "code",
   "execution_count": 60,
   "metadata": {},
   "outputs": [
    {
     "data": {
      "text/html": [
       "<div>\n",
       "<style scoped>\n",
       "    .dataframe tbody tr th:only-of-type {\n",
       "        vertical-align: middle;\n",
       "    }\n",
       "\n",
       "    .dataframe tbody tr th {\n",
       "        vertical-align: top;\n",
       "    }\n",
       "\n",
       "    .dataframe thead th {\n",
       "        text-align: right;\n",
       "    }\n",
       "</style>\n",
       "<table border=\"1\" class=\"dataframe\">\n",
       "  <thead>\n",
       "    <tr style=\"text-align: right;\">\n",
       "      <th></th>\n",
       "      <th>Density</th>\n",
       "      <th>bodyfat</th>\n",
       "      <th>Age</th>\n",
       "      <th>Weight</th>\n",
       "      <th>Height</th>\n",
       "      <th>Neck</th>\n",
       "      <th>Chest</th>\n",
       "      <th>Abdomen</th>\n",
       "      <th>Hip</th>\n",
       "      <th>Thigh</th>\n",
       "      <th>Knee</th>\n",
       "      <th>Ankle</th>\n",
       "      <th>Biceps</th>\n",
       "      <th>Forearm</th>\n",
       "      <th>Wrist</th>\n",
       "    </tr>\n",
       "  </thead>\n",
       "  <tbody>\n",
       "    <tr>\n",
       "      <th>0</th>\n",
       "      <td>1.0708</td>\n",
       "      <td>12.3</td>\n",
       "      <td>23</td>\n",
       "      <td>154.25</td>\n",
       "      <td>67.75</td>\n",
       "      <td>36.2</td>\n",
       "      <td>93.1</td>\n",
       "      <td>85.2</td>\n",
       "      <td>94.5</td>\n",
       "      <td>59.0</td>\n",
       "      <td>37.3</td>\n",
       "      <td>21.9</td>\n",
       "      <td>32.0</td>\n",
       "      <td>27.4</td>\n",
       "      <td>17.1</td>\n",
       "    </tr>\n",
       "    <tr>\n",
       "      <th>1</th>\n",
       "      <td>1.0853</td>\n",
       "      <td>6.1</td>\n",
       "      <td>22</td>\n",
       "      <td>173.25</td>\n",
       "      <td>72.25</td>\n",
       "      <td>38.5</td>\n",
       "      <td>93.6</td>\n",
       "      <td>83.0</td>\n",
       "      <td>98.7</td>\n",
       "      <td>58.7</td>\n",
       "      <td>37.3</td>\n",
       "      <td>23.4</td>\n",
       "      <td>30.5</td>\n",
       "      <td>28.9</td>\n",
       "      <td>18.2</td>\n",
       "    </tr>\n",
       "    <tr>\n",
       "      <th>2</th>\n",
       "      <td>1.0414</td>\n",
       "      <td>25.3</td>\n",
       "      <td>22</td>\n",
       "      <td>154.00</td>\n",
       "      <td>66.25</td>\n",
       "      <td>34.0</td>\n",
       "      <td>95.8</td>\n",
       "      <td>87.9</td>\n",
       "      <td>99.2</td>\n",
       "      <td>59.6</td>\n",
       "      <td>38.9</td>\n",
       "      <td>24.0</td>\n",
       "      <td>28.8</td>\n",
       "      <td>25.2</td>\n",
       "      <td>16.6</td>\n",
       "    </tr>\n",
       "    <tr>\n",
       "      <th>3</th>\n",
       "      <td>1.0751</td>\n",
       "      <td>10.4</td>\n",
       "      <td>26</td>\n",
       "      <td>184.75</td>\n",
       "      <td>72.25</td>\n",
       "      <td>37.4</td>\n",
       "      <td>101.8</td>\n",
       "      <td>86.4</td>\n",
       "      <td>101.2</td>\n",
       "      <td>60.1</td>\n",
       "      <td>37.3</td>\n",
       "      <td>22.8</td>\n",
       "      <td>32.4</td>\n",
       "      <td>29.4</td>\n",
       "      <td>18.2</td>\n",
       "    </tr>\n",
       "    <tr>\n",
       "      <th>4</th>\n",
       "      <td>1.0340</td>\n",
       "      <td>28.7</td>\n",
       "      <td>24</td>\n",
       "      <td>184.25</td>\n",
       "      <td>71.25</td>\n",
       "      <td>34.4</td>\n",
       "      <td>97.3</td>\n",
       "      <td>100.0</td>\n",
       "      <td>101.9</td>\n",
       "      <td>63.2</td>\n",
       "      <td>42.2</td>\n",
       "      <td>24.0</td>\n",
       "      <td>32.2</td>\n",
       "      <td>27.7</td>\n",
       "      <td>17.7</td>\n",
       "    </tr>\n",
       "  </tbody>\n",
       "</table>\n",
       "</div>"
      ],
      "text/plain": [
       "   Density  bodyfat  Age  Weight  Height  Neck  Chest  Abdomen    Hip  Thigh  \\\n",
       "0   1.0708     12.3   23  154.25   67.75  36.2   93.1     85.2   94.5   59.0   \n",
       "1   1.0853      6.1   22  173.25   72.25  38.5   93.6     83.0   98.7   58.7   \n",
       "2   1.0414     25.3   22  154.00   66.25  34.0   95.8     87.9   99.2   59.6   \n",
       "3   1.0751     10.4   26  184.75   72.25  37.4  101.8     86.4  101.2   60.1   \n",
       "4   1.0340     28.7   24  184.25   71.25  34.4   97.3    100.0  101.9   63.2   \n",
       "\n",
       "   Knee  Ankle  Biceps  Forearm  Wrist  \n",
       "0  37.3   21.9    32.0     27.4   17.1  \n",
       "1  37.3   23.4    30.5     28.9   18.2  \n",
       "2  38.9   24.0    28.8     25.2   16.6  \n",
       "3  37.3   22.8    32.4     29.4   18.2  \n",
       "4  42.2   24.0    32.2     27.7   17.7  "
      ]
     },
     "execution_count": 60,
     "metadata": {},
     "output_type": "execute_result"
    }
   ],
   "source": [
    "df.head()"
   ]
  },
  {
   "cell_type": "code",
   "execution_count": 61,
   "metadata": {},
   "outputs": [],
   "source": [
    "x=df.drop(columns=\"bodyfat\")\n",
    "y=df[\"bodyfat\"]"
   ]
  },
  {
   "cell_type": "code",
   "execution_count": 62,
   "metadata": {},
   "outputs": [],
   "source": [
    "from sklearn.model_selection import train_test_split \n",
    "x_train, x_test, y_train, y_test = train_test_split(x, y, test_size=0.2, random_state=0)"
   ]
  },
  {
   "cell_type": "code",
   "execution_count": 63,
   "metadata": {},
   "outputs": [
    {
     "data": {
      "text/html": [
       "<div>\n",
       "<style scoped>\n",
       "    .dataframe tbody tr th:only-of-type {\n",
       "        vertical-align: middle;\n",
       "    }\n",
       "\n",
       "    .dataframe tbody tr th {\n",
       "        vertical-align: top;\n",
       "    }\n",
       "\n",
       "    .dataframe thead th {\n",
       "        text-align: right;\n",
       "    }\n",
       "</style>\n",
       "<table border=\"1\" class=\"dataframe\">\n",
       "  <thead>\n",
       "    <tr style=\"text-align: right;\">\n",
       "      <th></th>\n",
       "      <th>Density</th>\n",
       "      <th>Age</th>\n",
       "      <th>Weight</th>\n",
       "      <th>Height</th>\n",
       "      <th>Neck</th>\n",
       "      <th>Chest</th>\n",
       "      <th>Abdomen</th>\n",
       "      <th>Hip</th>\n",
       "      <th>Thigh</th>\n",
       "      <th>Knee</th>\n",
       "      <th>Ankle</th>\n",
       "      <th>Biceps</th>\n",
       "      <th>Forearm</th>\n",
       "      <th>Wrist</th>\n",
       "    </tr>\n",
       "  </thead>\n",
       "  <tbody>\n",
       "    <tr>\n",
       "      <th>162</th>\n",
       "      <td>1.0690</td>\n",
       "      <td>33</td>\n",
       "      <td>184.25</td>\n",
       "      <td>68.75</td>\n",
       "      <td>40.7</td>\n",
       "      <td>98.9</td>\n",
       "      <td>92.1</td>\n",
       "      <td>103.5</td>\n",
       "      <td>64.0</td>\n",
       "      <td>37.3</td>\n",
       "      <td>23.5</td>\n",
       "      <td>33.5</td>\n",
       "      <td>30.6</td>\n",
       "      <td>19.7</td>\n",
       "    </tr>\n",
       "    <tr>\n",
       "      <th>159</th>\n",
       "      <td>1.0477</td>\n",
       "      <td>31</td>\n",
       "      <td>177.25</td>\n",
       "      <td>71.50</td>\n",
       "      <td>36.2</td>\n",
       "      <td>101.1</td>\n",
       "      <td>92.4</td>\n",
       "      <td>99.3</td>\n",
       "      <td>59.4</td>\n",
       "      <td>39.0</td>\n",
       "      <td>24.6</td>\n",
       "      <td>30.1</td>\n",
       "      <td>28.2</td>\n",
       "      <td>18.2</td>\n",
       "    </tr>\n",
       "    <tr>\n",
       "      <th>76</th>\n",
       "      <td>1.0790</td>\n",
       "      <td>57</td>\n",
       "      <td>162.50</td>\n",
       "      <td>69.50</td>\n",
       "      <td>38.7</td>\n",
       "      <td>91.6</td>\n",
       "      <td>78.8</td>\n",
       "      <td>94.3</td>\n",
       "      <td>56.7</td>\n",
       "      <td>39.7</td>\n",
       "      <td>24.2</td>\n",
       "      <td>30.2</td>\n",
       "      <td>29.2</td>\n",
       "      <td>18.1</td>\n",
       "    </tr>\n",
       "    <tr>\n",
       "      <th>59</th>\n",
       "      <td>1.0430</td>\n",
       "      <td>61</td>\n",
       "      <td>179.75</td>\n",
       "      <td>65.75</td>\n",
       "      <td>38.4</td>\n",
       "      <td>104.8</td>\n",
       "      <td>98.3</td>\n",
       "      <td>99.6</td>\n",
       "      <td>60.6</td>\n",
       "      <td>37.7</td>\n",
       "      <td>22.9</td>\n",
       "      <td>34.5</td>\n",
       "      <td>29.6</td>\n",
       "      <td>18.5</td>\n",
       "    </tr>\n",
       "    <tr>\n",
       "      <th>176</th>\n",
       "      <td>1.0689</td>\n",
       "      <td>37</td>\n",
       "      <td>151.00</td>\n",
       "      <td>67.00</td>\n",
       "      <td>35.3</td>\n",
       "      <td>92.6</td>\n",
       "      <td>83.2</td>\n",
       "      <td>96.4</td>\n",
       "      <td>60.0</td>\n",
       "      <td>38.1</td>\n",
       "      <td>22.0</td>\n",
       "      <td>31.5</td>\n",
       "      <td>26.6</td>\n",
       "      <td>16.7</td>\n",
       "    </tr>\n",
       "  </tbody>\n",
       "</table>\n",
       "</div>"
      ],
      "text/plain": [
       "     Density  Age  Weight  Height  Neck  Chest  Abdomen    Hip  Thigh  Knee  \\\n",
       "162   1.0690   33  184.25   68.75  40.7   98.9     92.1  103.5   64.0  37.3   \n",
       "159   1.0477   31  177.25   71.50  36.2  101.1     92.4   99.3   59.4  39.0   \n",
       "76    1.0790   57  162.50   69.50  38.7   91.6     78.8   94.3   56.7  39.7   \n",
       "59    1.0430   61  179.75   65.75  38.4  104.8     98.3   99.6   60.6  37.7   \n",
       "176   1.0689   37  151.00   67.00  35.3   92.6     83.2   96.4   60.0  38.1   \n",
       "\n",
       "     Ankle  Biceps  Forearm  Wrist  \n",
       "162   23.5    33.5     30.6   19.7  \n",
       "159   24.6    30.1     28.2   18.2  \n",
       "76    24.2    30.2     29.2   18.1  \n",
       "59    22.9    34.5     29.6   18.5  \n",
       "176   22.0    31.5     26.6   16.7  "
      ]
     },
     "execution_count": 63,
     "metadata": {},
     "output_type": "execute_result"
    }
   ],
   "source": [
    "x_train.head()"
   ]
  },
  {
   "cell_type": "code",
   "execution_count": 81,
   "metadata": {},
   "outputs": [
    {
     "data": {
      "text/plain": [
       "Index(['Density', 'bodyfat', 'Age', 'Weight', 'Height', 'Neck', 'Chest',\n",
       "       'Abdomen', 'Hip', 'Thigh', 'Knee', 'Ankle', 'Biceps', 'Forearm',\n",
       "       'Wrist'],\n",
       "      dtype='object')"
      ]
     },
     "execution_count": 81,
     "metadata": {},
     "output_type": "execute_result"
    }
   ],
   "source": [
    "df.columns"
   ]
  },
  {
   "cell_type": "code",
   "execution_count": 82,
   "metadata": {},
   "outputs": [
    {
     "data": {
      "text/plain": [
       "<seaborn.axisgrid.PairGrid at 0x229258badf0>"
      ]
     },
     "execution_count": 82,
     "metadata": {},
     "output_type": "execute_result"
    },
    {
     "data": {
      "image/png": "[encoded data removed]",
      "text/plain": [
       "<Figure size 2520x180 with 14 Axes>"
      ]
     },
     "metadata": {
      "needs_background": "light"
     },
     "output_type": "display_data"
    }
   ],
   "source": [
    "sns.pairplot(x_vars=['Density', 'Age', 'Weight', 'Height', 'Neck', 'Chest',\n",
    "       'Abdomen', 'Hip', 'Thigh', 'Knee', 'Ankle', 'Biceps', 'Forearm',\n",
    "       'Wrist'],y_vars=['bodyfat'],data=df)"
   ]
  },
  {
   "cell_type": "code",
   "execution_count": 83,
   "metadata": {},
   "outputs": [],
   "source": [
    "x=df.drop(columns=\"bodyfat\")\n",
    "y=df[\"bodyfat\"]"
   ]
  },
  {
   "cell_type": "code",
   "execution_count": 84,
   "metadata": {},
   "outputs": [],
   "source": [
    "xtrain,xtest,ytrain,ytest=train_test_split(x,y,test_size=0.2,random_state=0)"
   ]
  },
  {
   "cell_type": "code",
   "execution_count": 85,
   "metadata": {},
   "outputs": [
    {
     "data": {
      "text/html": [
       "<div>\n",
       "<style scoped>\n",
       "    .dataframe tbody tr th:only-of-type {\n",
       "        vertical-align: middle;\n",
       "    }\n",
       "\n",
       "    .dataframe tbody tr th {\n",
       "        vertical-align: top;\n",
       "    }\n",
       "\n",
       "    .dataframe thead th {\n",
       "        text-align: right;\n",
       "    }\n",
       "</style>\n",
       "<table border=\"1\" class=\"dataframe\">\n",
       "  <thead>\n",
       "    <tr style=\"text-align: right;\">\n",
       "      <th></th>\n",
       "      <th>Density</th>\n",
       "      <th>Age</th>\n",
       "      <th>Weight</th>\n",
       "      <th>Height</th>\n",
       "      <th>Neck</th>\n",
       "      <th>Chest</th>\n",
       "      <th>Abdomen</th>\n",
       "      <th>Hip</th>\n",
       "      <th>Thigh</th>\n",
       "      <th>Knee</th>\n",
       "      <th>Ankle</th>\n",
       "      <th>Biceps</th>\n",
       "      <th>Forearm</th>\n",
       "      <th>Wrist</th>\n",
       "    </tr>\n",
       "  </thead>\n",
       "  <tbody>\n",
       "    <tr>\n",
       "      <th>162</th>\n",
       "      <td>1.0690</td>\n",
       "      <td>33</td>\n",
       "      <td>184.25</td>\n",
       "      <td>68.75</td>\n",
       "      <td>40.7</td>\n",
       "      <td>98.9</td>\n",
       "      <td>92.1</td>\n",
       "      <td>103.5</td>\n",
       "      <td>64.0</td>\n",
       "      <td>37.3</td>\n",
       "      <td>23.5</td>\n",
       "      <td>33.5</td>\n",
       "      <td>30.6</td>\n",
       "      <td>19.7</td>\n",
       "    </tr>\n",
       "    <tr>\n",
       "      <th>159</th>\n",
       "      <td>1.0477</td>\n",
       "      <td>31</td>\n",
       "      <td>177.25</td>\n",
       "      <td>71.50</td>\n",
       "      <td>36.2</td>\n",
       "      <td>101.1</td>\n",
       "      <td>92.4</td>\n",
       "      <td>99.3</td>\n",
       "      <td>59.4</td>\n",
       "      <td>39.0</td>\n",
       "      <td>24.6</td>\n",
       "      <td>30.1</td>\n",
       "      <td>28.2</td>\n",
       "      <td>18.2</td>\n",
       "    </tr>\n",
       "    <tr>\n",
       "      <th>76</th>\n",
       "      <td>1.0790</td>\n",
       "      <td>57</td>\n",
       "      <td>162.50</td>\n",
       "      <td>69.50</td>\n",
       "      <td>38.7</td>\n",
       "      <td>91.6</td>\n",
       "      <td>78.8</td>\n",
       "      <td>94.3</td>\n",
       "      <td>56.7</td>\n",
       "      <td>39.7</td>\n",
       "      <td>24.2</td>\n",
       "      <td>30.2</td>\n",
       "      <td>29.2</td>\n",
       "      <td>18.1</td>\n",
       "    </tr>\n",
       "    <tr>\n",
       "      <th>59</th>\n",
       "      <td>1.0430</td>\n",
       "      <td>61</td>\n",
       "      <td>179.75</td>\n",
       "      <td>65.75</td>\n",
       "      <td>38.4</td>\n",
       "      <td>104.8</td>\n",
       "      <td>98.3</td>\n",
       "      <td>99.6</td>\n",
       "      <td>60.6</td>\n",
       "      <td>37.7</td>\n",
       "      <td>22.9</td>\n",
       "      <td>34.5</td>\n",
       "      <td>29.6</td>\n",
       "      <td>18.5</td>\n",
       "    </tr>\n",
       "    <tr>\n",
       "      <th>176</th>\n",
       "      <td>1.0689</td>\n",
       "      <td>37</td>\n",
       "      <td>151.00</td>\n",
       "      <td>67.00</td>\n",
       "      <td>35.3</td>\n",
       "      <td>92.6</td>\n",
       "      <td>83.2</td>\n",
       "      <td>96.4</td>\n",
       "      <td>60.0</td>\n",
       "      <td>38.1</td>\n",
       "      <td>22.0</td>\n",
       "      <td>31.5</td>\n",
       "      <td>26.6</td>\n",
       "      <td>16.7</td>\n",
       "    </tr>\n",
       "  </tbody>\n",
       "</table>\n",
       "</div>"
      ],
      "text/plain": [
       "     Density  Age  Weight  Height  Neck  Chest  Abdomen    Hip  Thigh  Knee  \\\n",
       "162   1.0690   33  184.25   68.75  40.7   98.9     92.1  103.5   64.0  37.3   \n",
       "159   1.0477   31  177.25   71.50  36.2  101.1     92.4   99.3   59.4  39.0   \n",
       "76    1.0790   57  162.50   69.50  38.7   91.6     78.8   94.3   56.7  39.7   \n",
       "59    1.0430   61  179.75   65.75  38.4  104.8     98.3   99.6   60.6  37.7   \n",
       "176   1.0689   37  151.00   67.00  35.3   92.6     83.2   96.4   60.0  38.1   \n",
       "\n",
       "     Ankle  Biceps  Forearm  Wrist  \n",
       "162   23.5    33.5     30.6   19.7  \n",
       "159   24.6    30.1     28.2   18.2  \n",
       "76    24.2    30.2     29.2   18.1  \n",
       "59    22.9    34.5     29.6   18.5  \n",
       "176   22.0    31.5     26.6   16.7  "
      ]
     },
     "execution_count": 85,
     "metadata": {},
     "output_type": "execute_result"
    }
   ],
   "source": [
    "xtrain.head()"
   ]
  },
  {
   "cell_type": "code",
   "execution_count": 86,
   "metadata": {},
   "outputs": [
    {
     "data": {
      "text/plain": [
       "LinearRegression()"
      ]
     },
     "execution_count": 86,
     "metadata": {},
     "output_type": "execute_result"
    }
   ],
   "source": [
    "model=LinearRegression()\n",
    "model.fit(xtrain,ytrain)"
   ]
  },
  {
   "cell_type": "code",
   "execution_count": 87,
   "metadata": {},
   "outputs": [],
   "source": [
    "ypred=model.predict(xtest)"
   ]
  },
  {
   "cell_type": "code",
   "execution_count": 88,
   "metadata": {},
   "outputs": [
    {
     "data": {
      "text/plain": [
       "array([12.47599803, 26.67435388,  3.07959789, 20.63880962,  9.34847798,\n",
       "       22.70861117, 25.03675869, 25.48102205, 25.93334391, 27.11154051,\n",
       "       25.57241354, 15.98800692, 21.14640329, 20.83829164, 16.14317929,\n",
       "       13.3040561 , 16.47678212,  0.78408468, 10.29343046, 11.81382892,\n",
       "       20.81307832, 14.13571505, 29.36335333, 22.01066502, 19.55707409,\n",
       "       32.09203249,  4.47080362, 23.01058488, 21.42742996, 28.16462336,\n",
       "       30.67541777, 26.48394745, 27.80255825, 11.56748784, 35.79295812,\n",
       "       13.64766366, 24.41298695, 21.21929569, 14.98985644, 11.3621322 ,\n",
       "       17.7648297 , 20.98358534, 34.97587412, 22.24706119, 20.90945562,\n",
       "       14.94307209, 13.01198496,  7.40626977, 31.73273885, -4.41584369,\n",
       "        8.95893169])"
      ]
     },
     "execution_count": 88,
     "metadata": {},
     "output_type": "execute_result"
    }
   ],
   "source": [
    "ypred"
   ]
  },
  {
   "cell_type": "code",
   "execution_count": 89,
   "metadata": {},
   "outputs": [],
   "source": [
    "from sklearn.metrics import mean_squared_error,mean_absolute_error,r2_score"
   ]
  },
  {
   "cell_type": "code",
   "execution_count": 91,
   "metadata": {},
   "outputs": [],
   "source": [
    "mse=mean_squared_error(ytest,ypred)"
   ]
  },
  {
   "cell_type": "code",
   "execution_count": 92,
   "metadata": {},
   "outputs": [
    {
     "data": {
      "text/plain": [
       "0.5762546808927981"
      ]
     },
     "execution_count": 92,
     "metadata": {},
     "output_type": "execute_result"
    }
   ],
   "source": [
    "mse"
   ]
  },
  {
   "cell_type": "code",
   "execution_count": 93,
   "metadata": {},
   "outputs": [
    {
     "data": {
      "text/plain": [
       "0.4329081176906287"
      ]
     },
     "execution_count": 93,
     "metadata": {},
     "output_type": "execute_result"
    }
   ],
   "source": [
    "mae=mean_absolute_error(ytest,ypred)\n",
    "mae"
   ]
  },
  {
   "cell_type": "code",
   "execution_count": 94,
   "metadata": {},
   "outputs": [
    {
     "data": {
      "text/plain": [
       "0.9920322045008588"
      ]
     },
     "execution_count": 94,
     "metadata": {},
     "output_type": "execute_result"
    }
   ],
   "source": [
    "r2_score=r2_score(ytest,ypred)\n",
    "r2_score"
   ]
  },
  {
   "cell_type": "code",
   "execution_count": 95,
   "metadata": {},
   "outputs": [
    {
     "data": {
      "text/plain": [
       "0.7591144056680772"
      ]
     },
     "execution_count": 95,
     "metadata": {},
     "output_type": "execute_result"
    }
   ],
   "source": [
    "rmse=np.sqrt(mse)\n",
    "rmse"
   ]
  },
  {
   "cell_type": "code",
   "execution_count": 74,
   "metadata": {},
   "outputs": [
    {
     "data": {
      "text/plain": [
       "LinearRegression()"
      ]
     },
     "execution_count": 74,
     "metadata": {},
     "output_type": "execute_result"
    }
   ],
   "source": [
    "from sklearn.preprocessing import PolynomialFeatures\n",
    "poly_reg = PolynomialFeatures(degree=4)\n",
    "x_poly = poly_reg.fit_transform(x)\n",
    "pol_reg = LinearRegression()\n",
    "pol_reg.fit(x_poly, y)"
   ]
  },
  {
   "cell_type": "code",
   "execution_count": 75,
   "metadata": {},
   "outputs": [
    {
     "data": {
      "text/plain": [
       "0.9781070874885561"
      ]
     },
     "execution_count": 75,
     "metadata": {},
     "output_type": "execute_result"
    }
   ],
   "source": [
    "lin_reg.score(x,y)"
   ]
  },
  {
   "cell_type": "code",
   "execution_count": 76,
   "metadata": {},
   "outputs": [
    {
     "data": {
      "text/plain": [
       "1.0"
      ]
     },
     "execution_count": 76,
     "metadata": {},
     "output_type": "execute_result"
    }
   ],
   "source": [
    "pol_reg.score(x_poly,y)"
   ]
  },
  {
   "cell_type": "code",
   "execution_count": 98,
   "metadata": {},
   "outputs": [],
   "source": [
    "ypred = pol_reg.predict(x_poly)"
   ]
  },
  {
   "cell_type": "code",
   "execution_count": 99,
   "metadata": {},
   "outputs": [
    {
     "data": {
      "text/plain": [
       "array([1.23000000e+01, 6.10000000e+00, 2.53000000e+01, 1.04000000e+01,\n",
       "       2.87000000e+01, 2.09000000e+01, 1.92000000e+01, 1.24000000e+01,\n",
       "       4.10000000e+00, 1.17000000e+01, 7.10000000e+00, 7.80000000e+00,\n",
       "       2.08000000e+01, 2.12000000e+01, 2.21000000e+01, 2.09000000e+01,\n",
       "       2.90000000e+01, 2.29000000e+01, 1.60000000e+01, 1.65000000e+01,\n",
       "       1.91000000e+01, 1.52000000e+01, 1.56000000e+01, 1.77000000e+01,\n",
       "       1.40000000e+01, 3.70000000e+00, 7.90000000e+00, 2.29000000e+01,\n",
       "       3.70000000e+00, 8.80000000e+00, 1.19000000e+01, 5.70000000e+00,\n",
       "       1.18000000e+01, 2.13000000e+01, 3.23000000e+01, 4.01000000e+01,\n",
       "       2.42000000e+01, 2.84000000e+01, 3.52000000e+01, 3.26000000e+01,\n",
       "       3.45000000e+01, 3.29000000e+01, 3.16000000e+01, 3.20000000e+01,\n",
       "       7.70000000e+00, 1.39000000e+01, 1.08000000e+01, 5.60000000e+00,\n",
       "       1.36000000e+01, 4.00000000e+00, 1.02000000e+01, 6.60000000e+00,\n",
       "       8.00000000e+00, 6.30000000e+00, 3.90000000e+00, 2.26000000e+01,\n",
       "       2.04000000e+01, 2.80000000e+01, 3.15000000e+01, 2.46000000e+01,\n",
       "       2.61000000e+01, 2.98000000e+01, 3.07000000e+01, 2.58000000e+01,\n",
       "       3.23000000e+01, 3.00000000e+01, 2.15000000e+01, 1.38000000e+01,\n",
       "       6.30000000e+00, 1.29000000e+01, 2.43000000e+01, 8.80000000e+00,\n",
       "       8.50000000e+00, 1.35000000e+01, 1.18000000e+01, 1.85000000e+01,\n",
       "       8.80000000e+00, 2.22000000e+01, 2.15000000e+01, 1.88000000e+01,\n",
       "       3.14000000e+01, 2.68000000e+01, 1.84000000e+01, 2.70000000e+01,\n",
       "       2.70000000e+01, 2.66000000e+01, 1.49000000e+01, 2.31000000e+01,\n",
       "       8.30000000e+00, 1.41000000e+01, 2.05000000e+01, 1.82000000e+01,\n",
       "       8.50000000e+00, 2.49000000e+01, 9.00000000e+00, 1.74000000e+01,\n",
       "       9.60000000e+00, 1.13000000e+01, 1.78000000e+01, 2.22000000e+01,\n",
       "       2.12000000e+01, 2.04000000e+01, 2.01000000e+01, 2.23000000e+01,\n",
       "       2.54000000e+01, 1.80000000e+01, 1.93000000e+01, 1.83000000e+01,\n",
       "       1.73000000e+01, 2.14000000e+01, 1.97000000e+01, 2.80000000e+01,\n",
       "       2.21000000e+01, 2.13000000e+01, 2.67000000e+01, 1.67000000e+01,\n",
       "       2.01000000e+01, 1.39000000e+01, 2.58000000e+01, 1.81000000e+01,\n",
       "       2.79000000e+01, 2.53000000e+01, 1.47000000e+01, 1.60000000e+01,\n",
       "       1.38000000e+01, 1.75000000e+01, 2.72000000e+01, 1.74000000e+01,\n",
       "       2.08000000e+01, 1.49000000e+01, 1.81000000e+01, 2.27000000e+01,\n",
       "       2.36000000e+01, 2.61000000e+01, 2.44000000e+01, 2.71000000e+01,\n",
       "       2.18000000e+01, 2.94000000e+01, 2.24000000e+01, 2.04000000e+01,\n",
       "       2.49000000e+01, 1.83000000e+01, 2.33000000e+01, 9.40000000e+00,\n",
       "       1.03000000e+01, 1.42000000e+01, 1.92000000e+01, 2.96000000e+01,\n",
       "       5.30000000e+00, 2.52000000e+01, 9.40000000e+00, 1.96000000e+01,\n",
       "       1.01000000e+01, 1.65000000e+01, 2.10000000e+01, 1.73000000e+01,\n",
       "       3.12000000e+01, 1.00000000e+01, 1.25000000e+01, 2.25000000e+01,\n",
       "       9.40000000e+00, 1.46000000e+01, 1.30000000e+01, 1.51000000e+01,\n",
       "       2.73000000e+01, 1.92000000e+01, 2.18000000e+01, 2.03000000e+01,\n",
       "       3.43000000e+01, 1.65000000e+01, 3.00000000e+00, 7.00000000e-01,\n",
       "       2.05000000e+01, 1.69000000e+01, 2.53000000e+01, 9.90000000e+00,\n",
       "       1.31000000e+01, 2.99000000e+01, 2.25000000e+01, 1.69000000e+01,\n",
       "       2.66000000e+01, 9.00968189e-12, 1.15000000e+01, 1.21000000e+01,\n",
       "       1.75000000e+01, 8.60000000e+00, 2.36000000e+01, 2.04000000e+01,\n",
       "       2.05000000e+01, 2.44000000e+01, 1.14000000e+01, 3.81000000e+01,\n",
       "       1.59000000e+01, 2.47000000e+01, 2.28000000e+01, 2.55000000e+01,\n",
       "       2.20000000e+01, 1.77000000e+01, 6.60000000e+00, 2.36000000e+01,\n",
       "       1.22000000e+01, 2.21000000e+01, 2.87000000e+01, 6.00000000e+00,\n",
       "       3.48000000e+01, 1.66000000e+01, 3.29000000e+01, 3.28000000e+01,\n",
       "       9.60000000e+00, 1.08000000e+01, 7.10000000e+00, 2.72000000e+01,\n",
       "       1.95000000e+01, 1.87000000e+01, 1.95000000e+01, 4.75000000e+01,\n",
       "       1.36000000e+01, 7.50000000e+00, 2.45000000e+01, 1.50000000e+01,\n",
       "       1.24000000e+01, 2.60000000e+01, 1.15000000e+01, 5.20000000e+00,\n",
       "       1.09000000e+01, 1.25000000e+01, 1.48000000e+01, 2.52000000e+01,\n",
       "       1.49000000e+01, 1.70000000e+01, 1.06000000e+01, 1.61000000e+01,\n",
       "       1.54000000e+01, 2.67000000e+01, 2.58000000e+01, 1.86000000e+01,\n",
       "       2.48000000e+01, 2.73000000e+01, 1.24000000e+01, 2.99000000e+01,\n",
       "       1.70000000e+01, 3.50000000e+01, 3.04000000e+01, 3.26000000e+01,\n",
       "       2.90000000e+01, 1.52000000e+01, 3.02000000e+01, 1.10000000e+01,\n",
       "       3.36000000e+01, 2.93000000e+01, 2.60000000e+01, 3.19000000e+01])"
      ]
     },
     "execution_count": 99,
     "metadata": {},
     "output_type": "execute_result"
    }
   ],
   "source": [
    "ypred"
   ]
  },
  {
   "cell_type": "code",
   "execution_count": null,
   "metadata": {},
   "outputs": [],
   "source": []
  }
 ],
 "metadata": {
  "kernelspec": {
   "display_name": "Python 3",
   "language": "python",
   "name": "python3"
  },
  "language_info": {
   "codemirror_mode": {
    "name": "ipython",
    "version": 3
   },
   "file_extension": ".py",
   "mimetype": "text/x-python",
   "name": "python",
   "nbconvert_exporter": "python",
   "pygments_lexer": "ipython3",
   "version": "3.8.3"
  }
 },
 "nbformat": 4,
 "nbformat_minor": 4
}
