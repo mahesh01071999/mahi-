{
 "cells": [
  {
   "cell_type": "code",
   "execution_count": 2,
   "metadata": {},
   "outputs": [],
   "source": [
    "import pandas as pd \n",
    "import numpy as np \n",
    "import matplotlib.pyplot as plt \n",
    "import seaborn as sns\n",
    "%matplotlib inline"
   ]
  },
  {
   "cell_type": "code",
   "execution_count": 3,
   "metadata": {},
   "outputs": [],
   "source": [
    "df=pd.read_csv(\"C:\\\\Users\\\\Expert\\\\Downloads\\\\WorldPopulation1.csv\")"
   ]
  },
  {
   "cell_type": "code",
   "execution_count": 4,
   "metadata": {},
   "outputs": [
    {
     "data": {
      "text/html": [
       "<div>\n",
       "<style scoped>\n",
       "    .dataframe tbody tr th:only-of-type {\n",
       "        vertical-align: middle;\n",
       "    }\n",
       "\n",
       "    .dataframe tbody tr th {\n",
       "        vertical-align: top;\n",
       "    }\n",
       "\n",
       "    .dataframe thead th {\n",
       "        text-align: right;\n",
       "    }\n",
       "</style>\n",
       "<table border=\"1\" class=\"dataframe\">\n",
       "  <thead>\n",
       "    <tr style=\"text-align: right;\">\n",
       "      <th></th>\n",
       "      <th>Year</th>\n",
       "      <th>Population</th>\n",
       "      <th>ChangePerc</th>\n",
       "      <th>NetChange</th>\n",
       "      <th>Density</th>\n",
       "      <th>Urban</th>\n",
       "      <th>UrbanPerc</th>\n",
       "    </tr>\n",
       "  </thead>\n",
       "  <tbody>\n",
       "    <tr>\n",
       "      <th>0</th>\n",
       "      <td>2020</td>\n",
       "      <td>7794798739</td>\n",
       "      <td>1.05</td>\n",
       "      <td>81330639</td>\n",
       "      <td>52</td>\n",
       "      <td>4378993944</td>\n",
       "      <td>56</td>\n",
       "    </tr>\n",
       "    <tr>\n",
       "      <th>1</th>\n",
       "      <td>2019</td>\n",
       "      <td>7713468100</td>\n",
       "      <td>1.08</td>\n",
       "      <td>82377060</td>\n",
       "      <td>52</td>\n",
       "      <td>4299438618</td>\n",
       "      <td>56</td>\n",
       "    </tr>\n",
       "    <tr>\n",
       "      <th>2</th>\n",
       "      <td>2018</td>\n",
       "      <td>7631091040</td>\n",
       "      <td>1.10</td>\n",
       "      <td>83232115</td>\n",
       "      <td>51</td>\n",
       "      <td>4219817318</td>\n",
       "      <td>55</td>\n",
       "    </tr>\n",
       "    <tr>\n",
       "      <th>3</th>\n",
       "      <td>2017</td>\n",
       "      <td>7547858925</td>\n",
       "      <td>1.12</td>\n",
       "      <td>83836876</td>\n",
       "      <td>51</td>\n",
       "      <td>4140188594</td>\n",
       "      <td>55</td>\n",
       "    </tr>\n",
       "    <tr>\n",
       "      <th>4</th>\n",
       "      <td>2016</td>\n",
       "      <td>7464022049</td>\n",
       "      <td>1.14</td>\n",
       "      <td>84224910</td>\n",
       "      <td>50</td>\n",
       "      <td>4060652683</td>\n",
       "      <td>54</td>\n",
       "    </tr>\n",
       "  </tbody>\n",
       "</table>\n",
       "</div>"
      ],
      "text/plain": [
       "   Year  Population  ChangePerc  NetChange  Density       Urban  UrbanPerc\n",
       "0  2020  7794798739        1.05   81330639       52  4378993944         56\n",
       "1  2019  7713468100        1.08   82377060       52  4299438618         56\n",
       "2  2018  7631091040        1.10   83232115       51  4219817318         55\n",
       "3  2017  7547858925        1.12   83836876       51  4140188594         55\n",
       "4  2016  7464022049        1.14   84224910       50  4060652683         54"
      ]
     },
     "execution_count": 4,
     "metadata": {},
     "output_type": "execute_result"
    }
   ],
   "source": [
    "df.head()"
   ]
  },
  {
   "cell_type": "code",
   "execution_count": 5,
   "metadata": {},
   "outputs": [
    {
     "name": "stdout",
     "output_type": "stream",
     "text": [
      "<class 'pandas.core.frame.DataFrame'>\n",
      "RangeIndex: 70 entries, 0 to 69\n",
      "Data columns (total 7 columns):\n",
      " #   Column      Non-Null Count  Dtype  \n",
      "---  ------      --------------  -----  \n",
      " 0   Year        70 non-null     int64  \n",
      " 1   Population  70 non-null     int64  \n",
      " 2   ChangePerc  70 non-null     float64\n",
      " 3   NetChange   70 non-null     int64  \n",
      " 4   Density     70 non-null     int64  \n",
      " 5   Urban       70 non-null     int64  \n",
      " 6   UrbanPerc   70 non-null     int64  \n",
      "dtypes: float64(1), int64(6)\n",
      "memory usage: 4.0 KB\n"
     ]
    }
   ],
   "source": [
    "df.info()"
   ]
  },
  {
   "cell_type": "code",
   "execution_count": 6,
   "metadata": {},
   "outputs": [
    {
     "data": {
      "text/html": [
       "<div>\n",
       "<style scoped>\n",
       "    .dataframe tbody tr th:only-of-type {\n",
       "        vertical-align: middle;\n",
       "    }\n",
       "\n",
       "    .dataframe tbody tr th {\n",
       "        vertical-align: top;\n",
       "    }\n",
       "\n",
       "    .dataframe thead th {\n",
       "        text-align: right;\n",
       "    }\n",
       "</style>\n",
       "<table border=\"1\" class=\"dataframe\">\n",
       "  <thead>\n",
       "    <tr style=\"text-align: right;\">\n",
       "      <th></th>\n",
       "      <th>Year</th>\n",
       "      <th>Population</th>\n",
       "      <th>ChangePerc</th>\n",
       "      <th>NetChange</th>\n",
       "      <th>Density</th>\n",
       "      <th>Urban</th>\n",
       "      <th>UrbanPerc</th>\n",
       "    </tr>\n",
       "  </thead>\n",
       "  <tbody>\n",
       "    <tr>\n",
       "      <th>count</th>\n",
       "      <td>70.000000</td>\n",
       "      <td>7.000000e+01</td>\n",
       "      <td>70.000000</td>\n",
       "      <td>7.000000e+01</td>\n",
       "      <td>70.000000</td>\n",
       "      <td>7.000000e+01</td>\n",
       "      <td>70.000000</td>\n",
       "    </tr>\n",
       "    <tr>\n",
       "      <th>mean</th>\n",
       "      <td>1985.500000</td>\n",
       "      <td>5.002010e+09</td>\n",
       "      <td>1.616429</td>\n",
       "      <td>7.511954e+07</td>\n",
       "      <td>33.557143</td>\n",
       "      <td>2.226815e+09</td>\n",
       "      <td>42.200000</td>\n",
       "    </tr>\n",
       "    <tr>\n",
       "      <th>std</th>\n",
       "      <td>20.351085</td>\n",
       "      <td>1.594877e+09</td>\n",
       "      <td>0.321288</td>\n",
       "      <td>1.256972e+07</td>\n",
       "      <td>10.723989</td>\n",
       "      <td>1.070191e+09</td>\n",
       "      <td>7.447595</td>\n",
       "    </tr>\n",
       "    <tr>\n",
       "      <th>min</th>\n",
       "      <td>1951.000000</td>\n",
       "      <td>2.584034e+09</td>\n",
       "      <td>1.050000</td>\n",
       "      <td>4.674740e+07</td>\n",
       "      <td>17.000000</td>\n",
       "      <td>7.750677e+08</td>\n",
       "      <td>30.000000</td>\n",
       "    </tr>\n",
       "    <tr>\n",
       "      <th>25%</th>\n",
       "      <td>1968.250000</td>\n",
       "      <td>3.570120e+09</td>\n",
       "      <td>1.262500</td>\n",
       "      <td>7.314225e+07</td>\n",
       "      <td>24.000000</td>\n",
       "      <td>1.294408e+09</td>\n",
       "      <td>36.000000</td>\n",
       "    </tr>\n",
       "    <tr>\n",
       "      <th>50%</th>\n",
       "      <td>1985.500000</td>\n",
       "      <td>4.915745e+09</td>\n",
       "      <td>1.770000</td>\n",
       "      <td>7.942852e+07</td>\n",
       "      <td>33.000000</td>\n",
       "      <td>2.035272e+09</td>\n",
       "      <td>41.500000</td>\n",
       "    </tr>\n",
       "    <tr>\n",
       "      <th>75%</th>\n",
       "      <td>2002.750000</td>\n",
       "      <td>6.361332e+09</td>\n",
       "      <td>1.847500</td>\n",
       "      <td>8.356683e+07</td>\n",
       "      <td>42.750000</td>\n",
       "      <td>3.054260e+09</td>\n",
       "      <td>48.000000</td>\n",
       "    </tr>\n",
       "    <tr>\n",
       "      <th>max</th>\n",
       "      <td>2020.000000</td>\n",
       "      <td>7.794799e+09</td>\n",
       "      <td>2.090000</td>\n",
       "      <td>9.290386e+07</td>\n",
       "      <td>52.000000</td>\n",
       "      <td>4.378994e+09</td>\n",
       "      <td>56.000000</td>\n",
       "    </tr>\n",
       "  </tbody>\n",
       "</table>\n",
       "</div>"
      ],
      "text/plain": [
       "              Year    Population  ChangePerc     NetChange    Density  \\\n",
       "count    70.000000  7.000000e+01   70.000000  7.000000e+01  70.000000   \n",
       "mean   1985.500000  5.002010e+09    1.616429  7.511954e+07  33.557143   \n",
       "std      20.351085  1.594877e+09    0.321288  1.256972e+07  10.723989   \n",
       "min    1951.000000  2.584034e+09    1.050000  4.674740e+07  17.000000   \n",
       "25%    1968.250000  3.570120e+09    1.262500  7.314225e+07  24.000000   \n",
       "50%    1985.500000  4.915745e+09    1.770000  7.942852e+07  33.000000   \n",
       "75%    2002.750000  6.361332e+09    1.847500  8.356683e+07  42.750000   \n",
       "max    2020.000000  7.794799e+09    2.090000  9.290386e+07  52.000000   \n",
       "\n",
       "              Urban  UrbanPerc  \n",
       "count  7.000000e+01  70.000000  \n",
       "mean   2.226815e+09  42.200000  \n",
       "std    1.070191e+09   7.447595  \n",
       "min    7.750677e+08  30.000000  \n",
       "25%    1.294408e+09  36.000000  \n",
       "50%    2.035272e+09  41.500000  \n",
       "75%    3.054260e+09  48.000000  \n",
       "max    4.378994e+09  56.000000  "
      ]
     },
     "execution_count": 6,
     "metadata": {},
     "output_type": "execute_result"
    }
   ],
   "source": [
    "df.describe()"
   ]
  },
  {
   "cell_type": "code",
   "execution_count": 7,
   "metadata": {},
   "outputs": [
    {
     "data": {
      "text/plain": [
       "Year            int64\n",
       "Population      int64\n",
       "ChangePerc    float64\n",
       "NetChange       int64\n",
       "Density         int64\n",
       "Urban           int64\n",
       "UrbanPerc       int64\n",
       "dtype: object"
      ]
     },
     "execution_count": 7,
     "metadata": {},
     "output_type": "execute_result"
    }
   ],
   "source": [
    "df.dtypes"
   ]
  },
  {
   "cell_type": "code",
   "execution_count": 8,
   "metadata": {},
   "outputs": [
    {
     "data": {
      "text/plain": [
       "0     False\n",
       "1     False\n",
       "2     False\n",
       "3     False\n",
       "4     False\n",
       "      ...  \n",
       "65    False\n",
       "66    False\n",
       "67    False\n",
       "68    False\n",
       "69    False\n",
       "Length: 70, dtype: bool"
      ]
     },
     "execution_count": 8,
     "metadata": {},
     "output_type": "execute_result"
    }
   ],
   "source": [
    "df.duplicated()"
   ]
  },
  {
   "cell_type": "code",
   "execution_count": 9,
   "metadata": {},
   "outputs": [
    {
     "data": {
      "text/plain": [
       "Year          0\n",
       "Population    0\n",
       "ChangePerc    0\n",
       "NetChange     0\n",
       "Density       0\n",
       "Urban         0\n",
       "UrbanPerc     0\n",
       "dtype: int64"
      ]
     },
     "execution_count": 9,
     "metadata": {},
     "output_type": "execute_result"
    }
   ],
   "source": [
    "df.isna().sum()"
   ]
  },
  {
   "cell_type": "code",
   "execution_count": 10,
   "metadata": {},
   "outputs": [
    {
     "data": {
      "text/plain": [
       "<matplotlib.axes._subplots.AxesSubplot at 0x1eb2e98fa30>"
      ]
     },
     "execution_count": 10,
     "metadata": {},
     "output_type": "execute_result"
    },
    {
     "data": {
      "image/png": "[encoded data removed]",
      "text/plain": [
       "<Figure size 432x288 with 1 Axes>"
      ]
     },
     "metadata": {
      "needs_background": "light"
     },
     "output_type": "display_data"
    }
   ],
   "source": [
    "df.boxplot()"
   ]
  },
  {
   "cell_type": "code",
   "execution_count": 11,
   "metadata": {},
   "outputs": [
    {
     "data": {
      "text/plain": [
       "[<matplotlib.lines.Line2D at 0x1eb2f1a9df0>,\n",
       " <matplotlib.lines.Line2D at 0x1eb2f1a9ee0>,\n",
       " <matplotlib.lines.Line2D at 0x1eb2f1a9fa0>,\n",
       " <matplotlib.lines.Line2D at 0x1eb2f1b70a0>,\n",
       " <matplotlib.lines.Line2D at 0x1eb2f1b7160>,\n",
       " <matplotlib.lines.Line2D at 0x1eb2f1b7220>,\n",
       " <matplotlib.lines.Line2D at 0x1eb2f1b72e0>]"
      ]
     },
     "execution_count": 11,
     "metadata": {},
     "output_type": "execute_result"
    },
    {
     "data": {
      "image/png": "[encoded data removed]",
      "text/plain": [
       "<Figure size 432x288 with 1 Axes>"
      ]
     },
     "metadata": {
      "needs_background": "light"
     },
     "output_type": "display_data"
    }
   ],
   "source": [
    "plt.plot(df)"
   ]
  },
  {
   "cell_type": "code",
   "execution_count": 12,
   "metadata": {},
   "outputs": [
    {
     "data": {
      "text/plain": [
       "array([[<matplotlib.axes._subplots.AxesSubplot object at 0x000001EB2F204AF0>,\n",
       "        <matplotlib.axes._subplots.AxesSubplot object at 0x000001EB2F21D0D0>,\n",
       "        <matplotlib.axes._subplots.AxesSubplot object at 0x000001EB2F254520>],\n",
       "       [<matplotlib.axes._subplots.AxesSubplot object at 0x000001EB2F2829A0>,\n",
       "        <matplotlib.axes._subplots.AxesSubplot object at 0x000001EB2F2AFDF0>,\n",
       "        <matplotlib.axes._subplots.AxesSubplot object at 0x000001EB2F2E91F0>],\n",
       "       [<matplotlib.axes._subplots.AxesSubplot object at 0x000001EB2F2E92E0>,\n",
       "        <matplotlib.axes._subplots.AxesSubplot object at 0x000001EB2F341BB0>,\n",
       "        <matplotlib.axes._subplots.AxesSubplot object at 0x000001EB2F36D130>]],\n",
       "      dtype=object)"
      ]
     },
     "execution_count": 12,
     "metadata": {},
     "output_type": "execute_result"
    },
    {
     "data": {
      "image/png": "[encoded data removed]",
      "text/plain": [
       "<Figure size 432x288 with 9 Axes>"
      ]
     },
     "metadata": {
      "needs_background": "light"
     },
     "output_type": "display_data"
    }
   ],
   "source": [
    "df.hist()"
   ]
  },
  {
   "cell_type": "code",
   "execution_count": 13,
   "metadata": {},
   "outputs": [
    {
     "data": {
      "text/plain": [
       "<seaborn.axisgrid.FacetGrid at 0x1eb2f4f5250>"
      ]
     },
     "execution_count": 13,
     "metadata": {},
     "output_type": "execute_result"
    },
    {
     "data": {
      "image/png": "[encoded data removed]",
      "text/plain": [
       "<Figure size 360x360 with 1 Axes>"
      ]
     },
     "metadata": {
      "needs_background": "light"
     },
     "output_type": "display_data"
    }
   ],
   "source": [
    "sns.catplot(data=df,x=\"Year\",y=\"Population\")"
   ]
  },
  {
   "cell_type": "code",
   "execution_count": 14,
   "metadata": {},
   "outputs": [
    {
     "data": {
      "text/plain": [
       "<seaborn.axisgrid.FacetGrid at 0x1eb2f2e9550>"
      ]
     },
     "execution_count": 14,
     "metadata": {},
     "output_type": "execute_result"
    },
    {
     "data": {
      "image/png": "[encoded data removed]",
      "text/plain": [
       "<Figure size 360x360 with 1 Axes>"
      ]
     },
     "metadata": {
      "needs_background": "light"
     },
     "output_type": "display_data"
    }
   ],
   "source": [
    "sns.catplot(data=df,x=\"Year\",y=\"Density\")"
   ]
  },
  {
   "cell_type": "code",
   "execution_count": 15,
   "metadata": {},
   "outputs": [
    {
     "data": {
      "text/plain": [
       "<matplotlib.collections.PathCollection at 0x1eb2f884700>"
      ]
     },
     "execution_count": 15,
     "metadata": {},
     "output_type": "execute_result"
    },
    {
     "data": {
      "image/png": "[encoded data removed]",
      "text/plain": [
       "<Figure size 432x288 with 1 Axes>"
      ]
     },
     "metadata": {
      "needs_background": "light"
     },
     "output_type": "display_data"
    }
   ],
   "source": [
    "plt.scatter(x=\"Year\",y=\"Population\")"
   ]
  },
  {
   "cell_type": "code",
   "execution_count": 16,
   "metadata": {},
   "outputs": [
    {
     "data": {
      "text/html": [
       "<div>\n",
       "<style scoped>\n",
       "    .dataframe tbody tr th:only-of-type {\n",
       "        vertical-align: middle;\n",
       "    }\n",
       "\n",
       "    .dataframe tbody tr th {\n",
       "        vertical-align: top;\n",
       "    }\n",
       "\n",
       "    .dataframe thead th {\n",
       "        text-align: right;\n",
       "    }\n",
       "</style>\n",
       "<table border=\"1\" class=\"dataframe\">\n",
       "  <thead>\n",
       "    <tr style=\"text-align: right;\">\n",
       "      <th></th>\n",
       "      <th>Year</th>\n",
       "      <th>Population</th>\n",
       "      <th>ChangePerc</th>\n",
       "      <th>NetChange</th>\n",
       "      <th>Density</th>\n",
       "      <th>Urban</th>\n",
       "      <th>UrbanPerc</th>\n",
       "    </tr>\n",
       "  </thead>\n",
       "  <tbody>\n",
       "    <tr>\n",
       "      <th>Year</th>\n",
       "      <td>1.000000</td>\n",
       "      <td>0.998403</td>\n",
       "      <td>-0.887211</td>\n",
       "      <td>0.797789</td>\n",
       "      <td>0.997915</td>\n",
       "      <td>0.987119</td>\n",
       "      <td>0.994349</td>\n",
       "    </tr>\n",
       "    <tr>\n",
       "      <th>Population</th>\n",
       "      <td>0.998403</td>\n",
       "      <td>1.000000</td>\n",
       "      <td>-0.907773</td>\n",
       "      <td>0.768659</td>\n",
       "      <td>0.999640</td>\n",
       "      <td>0.993085</td>\n",
       "      <td>0.995669</td>\n",
       "    </tr>\n",
       "    <tr>\n",
       "      <th>ChangePerc</th>\n",
       "      <td>-0.887211</td>\n",
       "      <td>-0.907773</td>\n",
       "      <td>1.000000</td>\n",
       "      <td>-0.451671</td>\n",
       "      <td>-0.908100</td>\n",
       "      <td>-0.924174</td>\n",
       "      <td>-0.899791</td>\n",
       "    </tr>\n",
       "    <tr>\n",
       "      <th>NetChange</th>\n",
       "      <td>0.797789</td>\n",
       "      <td>0.768659</td>\n",
       "      <td>-0.451671</td>\n",
       "      <td>1.000000</td>\n",
       "      <td>0.767797</td>\n",
       "      <td>0.706693</td>\n",
       "      <td>0.753161</td>\n",
       "    </tr>\n",
       "    <tr>\n",
       "      <th>Density</th>\n",
       "      <td>0.997915</td>\n",
       "      <td>0.999640</td>\n",
       "      <td>-0.908100</td>\n",
       "      <td>0.767797</td>\n",
       "      <td>1.000000</td>\n",
       "      <td>0.992816</td>\n",
       "      <td>0.995339</td>\n",
       "    </tr>\n",
       "    <tr>\n",
       "      <th>Urban</th>\n",
       "      <td>0.987119</td>\n",
       "      <td>0.993085</td>\n",
       "      <td>-0.924174</td>\n",
       "      <td>0.706693</td>\n",
       "      <td>0.992816</td>\n",
       "      <td>1.000000</td>\n",
       "      <td>0.995454</td>\n",
       "    </tr>\n",
       "    <tr>\n",
       "      <th>UrbanPerc</th>\n",
       "      <td>0.994349</td>\n",
       "      <td>0.995669</td>\n",
       "      <td>-0.899791</td>\n",
       "      <td>0.753161</td>\n",
       "      <td>0.995339</td>\n",
       "      <td>0.995454</td>\n",
       "      <td>1.000000</td>\n",
       "    </tr>\n",
       "  </tbody>\n",
       "</table>\n",
       "</div>"
      ],
      "text/plain": [
       "                Year  Population  ChangePerc  NetChange   Density     Urban  \\\n",
       "Year        1.000000    0.998403   -0.887211   0.797789  0.997915  0.987119   \n",
       "Population  0.998403    1.000000   -0.907773   0.768659  0.999640  0.993085   \n",
       "ChangePerc -0.887211   -0.907773    1.000000  -0.451671 -0.908100 -0.924174   \n",
       "NetChange   0.797789    0.768659   -0.451671   1.000000  0.767797  0.706693   \n",
       "Density     0.997915    0.999640   -0.908100   0.767797  1.000000  0.992816   \n",
       "Urban       0.987119    0.993085   -0.924174   0.706693  0.992816  1.000000   \n",
       "UrbanPerc   0.994349    0.995669   -0.899791   0.753161  0.995339  0.995454   \n",
       "\n",
       "            UrbanPerc  \n",
       "Year         0.994349  \n",
       "Population   0.995669  \n",
       "ChangePerc  -0.899791  \n",
       "NetChange    0.753161  \n",
       "Density      0.995339  \n",
       "Urban        0.995454  \n",
       "UrbanPerc    1.000000  "
      ]
     },
     "execution_count": 16,
     "metadata": {},
     "output_type": "execute_result"
    }
   ],
   "source": [
    "df.corr()"
   ]
  },
  {
   "cell_type": "code",
   "execution_count": 17,
   "metadata": {},
   "outputs": [
    {
     "data": {
      "text/plain": [
       "<matplotlib.axes._subplots.AxesSubplot at 0x1eb2f89d310>"
      ]
     },
     "execution_count": 17,
     "metadata": {},
     "output_type": "execute_result"
    },
    {
     "data": {
      "image/png": "[encoded data removed]",
      "text/plain": [
       "<Figure size 720x576 with 2 Axes>"
      ]
     },
     "metadata": {
      "needs_background": "light"
     },
     "output_type": "display_data"
    }
   ],
   "source": [
    "plt.figure(figsize=(10,8))\n",
    "sns.heatmap(df.corr(),annot=True)"
   ]
  },
  {
   "cell_type": "code",
   "execution_count": 18,
   "metadata": {},
   "outputs": [
    {
     "data": {
      "text/plain": [
       "Index(['Year', 'Population', 'ChangePerc', 'NetChange', 'Density', 'Urban',\n",
       "       'UrbanPerc'],\n",
       "      dtype='object')"
      ]
     },
     "execution_count": 18,
     "metadata": {},
     "output_type": "execute_result"
    }
   ],
   "source": [
    "df.columns"
   ]
  },
  {
   "cell_type": "code",
   "execution_count": 19,
   "metadata": {},
   "outputs": [
    {
     "data": {
      "text/plain": [
       "array([<matplotlib.axes._subplots.AxesSubplot object at 0x000001EB2FB74880>,\n",
       "       <matplotlib.axes._subplots.AxesSubplot object at 0x000001EB2FCC2A00>,\n",
       "       <matplotlib.axes._subplots.AxesSubplot object at 0x000001EB2FCE5C40>,\n",
       "       <matplotlib.axes._subplots.AxesSubplot object at 0x000001EB2FD13DC0>,\n",
       "       <matplotlib.axes._subplots.AxesSubplot object at 0x000001EB2FD43F70>,\n",
       "       <matplotlib.axes._subplots.AxesSubplot object at 0x000001EB2FD7EFD0>,\n",
       "       <matplotlib.axes._subplots.AxesSubplot object at 0x000001EB2FD8A0D0>],\n",
       "      dtype=object)"
      ]
     },
     "execution_count": 19,
     "metadata": {},
     "output_type": "execute_result"
    },
    {
     "data": {
      "image/png": "[encoded data removed]",
      "text/plain": [
       "<Figure size 720x720 with 7 Axes>"
      ]
     },
     "metadata": {
      "needs_background": "light"
     },
     "output_type": "display_data"
    }
   ],
   "source": [
    "df.plot(subplots=True,figsize=(10,10))"
   ]
  },
  {
   "cell_type": "code",
   "execution_count": 20,
   "metadata": {},
   "outputs": [
    {
     "data": {
      "text/plain": [
       "<seaborn.axisgrid.PairGrid at 0x1eb300ff3a0>"
      ]
     },
     "execution_count": 20,
     "metadata": {},
     "output_type": "execute_result"
    },
    {
     "data": {
      "image/png": "[encoded data removed]",
      "text/plain": [
       "<Figure size 1080x180 with 6 Axes>"
      ]
     },
     "metadata": {
      "needs_background": "light"
     },
     "output_type": "display_data"
    }
   ],
   "source": [
    "sns.pairplot(x_vars=['Year', 'ChangePerc', 'NetChange', 'Density', 'Urban',\n",
    "       'UrbanPerc'],y_vars=['Population'],data=df)"
   ]
  },
  {
   "cell_type": "code",
   "execution_count": 21,
   "metadata": {},
   "outputs": [],
   "source": [
    "x=df.drop(columns=[\"Population\",\"ChangePerc\",\"NetChange\"])\n",
    "y=df[\"Population\"]"
   ]
  },
  {
   "cell_type": "code",
   "execution_count": 22,
   "metadata": {},
   "outputs": [
    {
     "data": {
      "text/html": [
       "<div>\n",
       "<style scoped>\n",
       "    .dataframe tbody tr th:only-of-type {\n",
       "        vertical-align: middle;\n",
       "    }\n",
       "\n",
       "    .dataframe tbody tr th {\n",
       "        vertical-align: top;\n",
       "    }\n",
       "\n",
       "    .dataframe thead th {\n",
       "        text-align: right;\n",
       "    }\n",
       "</style>\n",
       "<table border=\"1\" class=\"dataframe\">\n",
       "  <thead>\n",
       "    <tr style=\"text-align: right;\">\n",
       "      <th></th>\n",
       "      <th>Year</th>\n",
       "      <th>Density</th>\n",
       "      <th>Urban</th>\n",
       "      <th>UrbanPerc</th>\n",
       "    </tr>\n",
       "  </thead>\n",
       "  <tbody>\n",
       "    <tr>\n",
       "      <th>0</th>\n",
       "      <td>2020</td>\n",
       "      <td>52</td>\n",
       "      <td>4378993944</td>\n",
       "      <td>56</td>\n",
       "    </tr>\n",
       "    <tr>\n",
       "      <th>1</th>\n",
       "      <td>2019</td>\n",
       "      <td>52</td>\n",
       "      <td>4299438618</td>\n",
       "      <td>56</td>\n",
       "    </tr>\n",
       "    <tr>\n",
       "      <th>2</th>\n",
       "      <td>2018</td>\n",
       "      <td>51</td>\n",
       "      <td>4219817318</td>\n",
       "      <td>55</td>\n",
       "    </tr>\n",
       "    <tr>\n",
       "      <th>3</th>\n",
       "      <td>2017</td>\n",
       "      <td>51</td>\n",
       "      <td>4140188594</td>\n",
       "      <td>55</td>\n",
       "    </tr>\n",
       "    <tr>\n",
       "      <th>4</th>\n",
       "      <td>2016</td>\n",
       "      <td>50</td>\n",
       "      <td>4060652683</td>\n",
       "      <td>54</td>\n",
       "    </tr>\n",
       "    <tr>\n",
       "      <th>...</th>\n",
       "      <td>...</td>\n",
       "      <td>...</td>\n",
       "      <td>...</td>\n",
       "      <td>...</td>\n",
       "    </tr>\n",
       "    <tr>\n",
       "      <th>65</th>\n",
       "      <td>1955</td>\n",
       "      <td>19</td>\n",
       "      <td>877008842</td>\n",
       "      <td>32</td>\n",
       "    </tr>\n",
       "    <tr>\n",
       "      <th>66</th>\n",
       "      <td>1954</td>\n",
       "      <td>18</td>\n",
       "      <td>850179106</td>\n",
       "      <td>31</td>\n",
       "    </tr>\n",
       "    <tr>\n",
       "      <th>67</th>\n",
       "      <td>1953</td>\n",
       "      <td>18</td>\n",
       "      <td>824289989</td>\n",
       "      <td>31</td>\n",
       "    </tr>\n",
       "    <tr>\n",
       "      <th>68</th>\n",
       "      <td>1952</td>\n",
       "      <td>18</td>\n",
       "      <td>799282533</td>\n",
       "      <td>30</td>\n",
       "    </tr>\n",
       "    <tr>\n",
       "      <th>69</th>\n",
       "      <td>1951</td>\n",
       "      <td>17</td>\n",
       "      <td>775067697</td>\n",
       "      <td>30</td>\n",
       "    </tr>\n",
       "  </tbody>\n",
       "</table>\n",
       "<p>70 rows × 4 columns</p>\n",
       "</div>"
      ],
      "text/plain": [
       "    Year  Density       Urban  UrbanPerc\n",
       "0   2020       52  4378993944         56\n",
       "1   2019       52  4299438618         56\n",
       "2   2018       51  4219817318         55\n",
       "3   2017       51  4140188594         55\n",
       "4   2016       50  4060652683         54\n",
       "..   ...      ...         ...        ...\n",
       "65  1955       19   877008842         32\n",
       "66  1954       18   850179106         31\n",
       "67  1953       18   824289989         31\n",
       "68  1952       18   799282533         30\n",
       "69  1951       17   775067697         30\n",
       "\n",
       "[70 rows x 4 columns]"
      ]
     },
     "execution_count": 22,
     "metadata": {},
     "output_type": "execute_result"
    }
   ],
   "source": [
    "x"
   ]
  },
  {
   "cell_type": "code",
   "execution_count": 23,
   "metadata": {},
   "outputs": [
    {
     "data": {
      "text/plain": [
       "0     7794798739\n",
       "1     7713468100\n",
       "2     7631091040\n",
       "3     7547858925\n",
       "4     7464022049\n",
       "         ...    \n",
       "65    2773019936\n",
       "66    2724846741\n",
       "67    2677608960\n",
       "68    2630861562\n",
       "69    2584034261\n",
       "Name: Population, Length: 70, dtype: int64"
      ]
     },
     "execution_count": 23,
     "metadata": {},
     "output_type": "execute_result"
    }
   ],
   "source": [
    "y"
   ]
  },
  {
   "cell_type": "code",
   "execution_count": 24,
   "metadata": {},
   "outputs": [],
   "source": [
    "from sklearn.model_selection import train_test_split"
   ]
  },
  {
   "cell_type": "code",
   "execution_count": 26,
   "metadata": {},
   "outputs": [],
   "source": [
    "xtrain,xtest,ytrain,ytest=train_test_split(x,y,test_size=0.2,random_state=1)"
   ]
  },
  {
   "cell_type": "code",
   "execution_count": 27,
   "metadata": {},
   "outputs": [
    {
     "data": {
      "text/plain": [
       "(56, 4)"
      ]
     },
     "execution_count": 27,
     "metadata": {},
     "output_type": "execute_result"
    }
   ],
   "source": [
    "xtrain.shape"
   ]
  },
  {
   "cell_type": "code",
   "execution_count": 28,
   "metadata": {},
   "outputs": [
    {
     "data": {
      "text/plain": [
       "(14, 4)"
      ]
     },
     "execution_count": 28,
     "metadata": {},
     "output_type": "execute_result"
    }
   ],
   "source": [
    "xtest.shape"
   ]
  },
  {
   "cell_type": "code",
   "execution_count": 29,
   "metadata": {},
   "outputs": [
    {
     "data": {
      "text/plain": [
       "(56,)"
      ]
     },
     "execution_count": 29,
     "metadata": {},
     "output_type": "execute_result"
    }
   ],
   "source": [
    "ytrain.shape"
   ]
  },
  {
   "cell_type": "code",
   "execution_count": 30,
   "metadata": {},
   "outputs": [
    {
     "data": {
      "text/plain": [
       "(14,)"
      ]
     },
     "execution_count": 30,
     "metadata": {},
     "output_type": "execute_result"
    }
   ],
   "source": [
    "ytest.shape"
   ]
  },
  {
   "cell_type": "code",
   "execution_count": 31,
   "metadata": {},
   "outputs": [
    {
     "data": {
      "text/plain": [
       "LinearRegression()"
      ]
     },
     "execution_count": 31,
     "metadata": {},
     "output_type": "execute_result"
    }
   ],
   "source": [
    "from sklearn.linear_model import LinearRegression\n",
    "model=LinearRegression()\n",
    "model.fit(xtrain,ytrain)"
   ]
  },
  {
   "cell_type": "code",
   "execution_count": 32,
   "metadata": {},
   "outputs": [],
   "source": [
    "ypred=model.predict(xtest)"
   ]
  },
  {
   "cell_type": "code",
   "execution_count": 33,
   "metadata": {},
   "outputs": [
    {
     "name": "stdout",
     "output_type": "stream",
     "text": [
      "[2.76764953e+09 5.65707898e+09 2.68931040e+09 3.42073113e+09\n",
      " 5.53026694e+09 2.99737831e+09 3.76556895e+09 4.78223219e+09\n",
      " 3.88458546e+09 5.19968424e+09 7.64646007e+09 4.51623961e+09\n",
      " 3.46886007e+09 4.90749547e+09]\n"
     ]
    }
   ],
   "source": [
    "print(ypred)"
   ]
  },
  {
   "cell_type": "code",
   "execution_count": 44,
   "metadata": {},
   "outputs": [
    {
     "data": {
      "image/png": "[encoded data removed]",
      "text/plain": [
       "<Figure size 432x288 with 1 Axes>"
      ]
     },
     "metadata": {
      "needs_background": "light"
     },
     "output_type": "display_data"
    }
   ],
   "source": [
    "plt.plot(ypred)\n",
    "plt.show()"
   ]
  },
  {
   "cell_type": "code",
   "execution_count": 45,
   "metadata": {},
   "outputs": [
    {
     "data": {
      "text/plain": [
       "{'bodies': [<matplotlib.collections.PolyCollection at 0x1eb319dfa30>],\n",
       " 'cmaxes': <matplotlib.collections.LineCollection at 0x1eb319df520>,\n",
       " 'cmins': <matplotlib.collections.LineCollection at 0x1eb319df580>,\n",
       " 'cbars': <matplotlib.collections.LineCollection at 0x1eb319df190>}"
      ]
     },
     "execution_count": 45,
     "metadata": {},
     "output_type": "execute_result"
    },
    {
     "data": {
      "image/png": "[encoded data removed]",
      "text/plain": [
       "<Figure size 432x288 with 1 Axes>"
      ]
     },
     "metadata": {
      "needs_background": "light"
     },
     "output_type": "display_data"
    }
   ],
   "source": [
    "plt.violinplot(ypred)"
   ]
  },
  {
   "cell_type": "code",
   "execution_count": 46,
   "metadata": {},
   "outputs": [],
   "source": [
    "from sklearn.metrics import mean_squared_error,mean_absolute_error,r2_score"
   ]
  },
  {
   "cell_type": "code",
   "execution_count": 51,
   "metadata": {},
   "outputs": [
    {
     "data": {
      "text/plain": [
       "732807554657225.4"
      ]
     },
     "execution_count": 51,
     "metadata": {},
     "output_type": "execute_result"
    }
   ],
   "source": [
    "mse=mean_squared_error(ytest,ypred)\n",
    "mse"
   ]
  },
  {
   "cell_type": "code",
   "execution_count": 52,
   "metadata": {},
   "outputs": [
    {
     "data": {
      "text/plain": [
       "22425797.275626045"
      ]
     },
     "execution_count": 52,
     "metadata": {},
     "output_type": "execute_result"
    }
   ],
   "source": [
    "mae=mean_absolute_error(ytest,ypred)\n",
    "mae"
   ]
  },
  {
   "cell_type": "code",
   "execution_count": 53,
   "metadata": {},
   "outputs": [
    {
     "data": {
      "text/plain": [
       "27070418.442595698"
      ]
     },
     "execution_count": 53,
     "metadata": {},
     "output_type": "execute_result"
    }
   ],
   "source": [
    "rmse=np.sqrt(mse)\n",
    "rmse"
   ]
  },
  {
   "cell_type": "code",
   "execution_count": 55,
   "metadata": {},
   "outputs": [],
   "source": [
    "score=r2_score(ytest,ypred)"
   ]
  },
  {
   "cell_type": "code",
   "execution_count": 56,
   "metadata": {},
   "outputs": [
    {
     "data": {
      "text/plain": [
       "0.9995787840147933"
      ]
     },
     "execution_count": 56,
     "metadata": {},
     "output_type": "execute_result"
    }
   ],
   "source": [
    "score"
   ]
  },
  {
   "cell_type": "code",
   "execution_count": 68,
   "metadata": {},
   "outputs": [],
   "source": [
    "from sklearn.linear_model import Ridge"
   ]
  },
  {
   "cell_type": "code",
   "execution_count": 74,
   "metadata": {},
   "outputs": [
    {
     "name": "stderr",
     "output_type": "stream",
     "text": [
      "C:\\Users\\Expert\\Documents\\Desktop\\soft\\ANACONDA\\lib\\site-packages\\sklearn\\linear_model\\_ridge.py:147: LinAlgWarning: Ill-conditioned matrix (rcond=7.9218e-20): result may not be accurate.\n",
      "  return linalg.solve(A, Xy, sym_pos=True,\n"
     ]
    },
    {
     "data": {
      "text/plain": [
       "Ridge(alpha=0.1)"
      ]
     },
     "execution_count": 74,
     "metadata": {},
     "output_type": "execute_result"
    }
   ],
   "source": [
    "ridge=Ridge(alpha=0.1)\n",
    "ridge.fit(xtrain,ytrain)"
   ]
  },
  {
   "cell_type": "code",
   "execution_count": 75,
   "metadata": {},
   "outputs": [
    {
     "data": {
      "text/plain": [
       "array([2.76739729e+09, 5.65674025e+09, 2.68912194e+09, 3.42109202e+09,\n",
       "       5.53020241e+09, 2.99777626e+09, 3.76595632e+09, 4.78232697e+09,\n",
       "       3.88468856e+09, 5.19967299e+09, 7.64667511e+09, 4.51653243e+09,\n",
       "       3.46934447e+09, 4.90731404e+09])"
      ]
     },
     "execution_count": 75,
     "metadata": {},
     "output_type": "execute_result"
    }
   ],
   "source": [
    "r_ypred=ridge.predict(xtest)\n",
    "r_ypred"
   ]
  },
  {
   "cell_type": "code",
   "execution_count": 76,
   "metadata": {},
   "outputs": [
    {
     "name": "stdout",
     "output_type": "stream",
     "text": [
      "mse: 6.821499715450779e+17\n",
      "mae: 774643550.3749988\n",
      "rmse: 825923708.0657498\n",
      "score: 0.6079018693284304\n"
     ]
    }
   ],
   "source": [
    "from sklearn.metrics import mean_squared_error,mean_absolute_error,r2_score\n",
    "mse=mean_squared_error(ytest,ypred)\n",
    "print(\"mse:\",mse)\n",
    "mae=mean_absolute_error(ytest,ypred)\n",
    "print(\"mae:\",mae)\n",
    "rmse=np.sqrt(mse)\n",
    "print(\"rmse:\",rmse)\n",
    "score=r2_score(ytest,ypred)\n",
    "print(\"score:\",score)"
   ]
  },
  {
   "cell_type": "code",
   "execution_count": 77,
   "metadata": {},
   "outputs": [],
   "source": [
    "from sklearn.linear_model import Lasso"
   ]
  },
  {
   "cell_type": "code",
   "execution_count": 81,
   "metadata": {},
   "outputs": [],
   "source": [
    "lasso=Lasso(alpha=1.0)"
   ]
  },
  {
   "cell_type": "code",
   "execution_count": 82,
   "metadata": {},
   "outputs": [
    {
     "name": "stderr",
     "output_type": "stream",
     "text": [
      "C:\\Users\\Expert\\Documents\\Desktop\\soft\\ANACONDA\\lib\\site-packages\\sklearn\\linear_model\\_coordinate_descent.py:529: ConvergenceWarning: Objective did not converge. You might want to increase the number of iterations. Duality gap: 2.057583947957162e+16, tolerance: 1.4443337159897028e+16\n",
      "  model = cd_fast.enet_coordinate_descent(\n"
     ]
    },
    {
     "data": {
      "text/plain": [
       "Lasso()"
      ]
     },
     "execution_count": 82,
     "metadata": {},
     "output_type": "execute_result"
    }
   ],
   "source": [
    "lasso.fit(xtrain,ytrain)"
   ]
  },
  {
   "cell_type": "code",
   "execution_count": 84,
   "metadata": {},
   "outputs": [
    {
     "data": {
      "text/plain": [
       "array([2.75848331e+09, 5.65956059e+09, 2.69192328e+09, 3.41648409e+09,\n",
       "       5.53427151e+09, 2.99685532e+09, 3.76934801e+09, 4.78414230e+09,\n",
       "       3.88555836e+09, 5.19745411e+09, 7.65409095e+09, 4.52199192e+09,\n",
       "       3.47198031e+09, 4.90762768e+09])"
      ]
     },
     "execution_count": 84,
     "metadata": {},
     "output_type": "execute_result"
    }
   ],
   "source": [
    "l_ypred=lasso.predict(xtest)\n",
    "l_ypred"
   ]
  },
  {
   "cell_type": "code",
   "execution_count": 85,
   "metadata": {},
   "outputs": [
    {
     "name": "stdout",
     "output_type": "stream",
     "text": [
      "mse: 6.821499715450779e+17\n",
      "mae: 774643550.3749988\n",
      "rmse: 825923708.0657498\n",
      "score: 0.6079018693284304\n"
     ]
    }
   ],
   "source": [
    "from sklearn.metrics import mean_squared_error,mean_absolute_error,r2_score\n",
    "mse=mean_squared_error(ytest,ypred)\n",
    "print(\"mse:\",mse)\n",
    "mae=mean_absolute_error(ytest,ypred)\n",
    "print(\"mae:\",mae)\n",
    "rmse=np.sqrt(mse)\n",
    "print(\"rmse:\",rmse)\n",
    "score=r2_score(ytest,ypred)\n",
    "print(\"score:\",score)"
   ]
  },
  {
   "cell_type": "code",
   "execution_count": 86,
   "metadata": {},
   "outputs": [],
   "source": [
    "from sklearn.linear_model import ElasticNet"
   ]
  },
  {
   "cell_type": "code",
   "execution_count": 87,
   "metadata": {},
   "outputs": [],
   "source": [
    "alpha=[0.0001,0.001,0.01,0.1,0.3,0.5,1,10]"
   ]
  },
  {
   "cell_type": "code",
   "execution_count": 90,
   "metadata": {},
   "outputs": [
    {
     "name": "stdout",
     "output_type": "stream",
     "text": [
      " For Alpha = 0.0001 | R-square :0.9995890396409152 MSE :714965401073763.1 RMSE :26738836.943176176 MAE:21926422.658562798 \n",
      " For Alpha = 0.001 | R-square :0.9995891567267133 MSE :714761701878017.6 RMSE :26735027.620670557 MAE:21926339.392969403 \n",
      " For Alpha = 0.01 | R-square :0.9995900269293596 MSE :713247772930144.9 RMSE :26706699.027213097 MAE:21925099.349983215 \n",
      " For Alpha = 0.1 | R-square :0.9995775222990155 MSE :735002615828314.4 RMSE :27110931.666549463 MAE:22417555.66329847 \n",
      " For Alpha = 0.3 | R-square :0.9994958623170251 MSE :877069996500815.8 RMSE :29615367.57328559 MAE:25566377.426426478 \n",
      " For Alpha = 0.5 | R-square :0.999404965849462 MSE :1035206488137554.4 RMSE :32174624.91059615 MAE:27542112.474000115 \n",
      " For Alpha = 1 | R-square :0.9992191624742677 MSE :1358456606378880.8 RMSE :36857246.32116296 MAE:31273278.46407536 \n",
      " For Alpha = 10 | R-square :0.9971369356102098 MSE :4980996182465985.0 RMSE :70576172.90889317 MAE:62775325.363133565 \n"
     ]
    },
    {
     "name": "stderr",
     "output_type": "stream",
     "text": [
      "C:\\Users\\Expert\\Documents\\Desktop\\soft\\ANACONDA\\lib\\site-packages\\sklearn\\linear_model\\_coordinate_descent.py:529: ConvergenceWarning: Objective did not converge. You might want to increase the number of iterations. Duality gap: 2.058569809198133e+16, tolerance: 1.4443337159897028e+16\n",
      "  model = cd_fast.enet_coordinate_descent(\n",
      "C:\\Users\\Expert\\Documents\\Desktop\\soft\\ANACONDA\\lib\\site-packages\\sklearn\\linear_model\\_coordinate_descent.py:529: ConvergenceWarning: Objective did not converge. You might want to increase the number of iterations. Duality gap: 2.067441509734365e+16, tolerance: 1.4443337159897028e+16\n",
      "  model = cd_fast.enet_coordinate_descent(\n",
      "C:\\Users\\Expert\\Documents\\Desktop\\soft\\ANACONDA\\lib\\site-packages\\sklearn\\linear_model\\_coordinate_descent.py:529: ConvergenceWarning: Objective did not converge. You might want to increase the number of iterations. Duality gap: 2.1553494817693212e+16, tolerance: 1.4443337159897028e+16\n",
      "  model = cd_fast.enet_coordinate_descent(\n",
      "C:\\Users\\Expert\\Documents\\Desktop\\soft\\ANACONDA\\lib\\site-packages\\sklearn\\linear_model\\_coordinate_descent.py:529: ConvergenceWarning: Objective did not converge. You might want to increase the number of iterations. Duality gap: 2.963042087198925e+16, tolerance: 1.4443337159897028e+16\n",
      "  model = cd_fast.enet_coordinate_descent(\n",
      "C:\\Users\\Expert\\Documents\\Desktop\\soft\\ANACONDA\\lib\\site-packages\\sklearn\\linear_model\\_coordinate_descent.py:529: ConvergenceWarning: Objective did not converge. You might want to increase the number of iterations. Duality gap: 4.421718002820562e+16, tolerance: 1.4443337159897028e+16\n",
      "  model = cd_fast.enet_coordinate_descent(\n",
      "C:\\Users\\Expert\\Documents\\Desktop\\soft\\ANACONDA\\lib\\site-packages\\sklearn\\linear_model\\_coordinate_descent.py:529: ConvergenceWarning: Objective did not converge. You might want to increase the number of iterations. Duality gap: 5.601426006508744e+16, tolerance: 1.4443337159897028e+16\n",
      "  model = cd_fast.enet_coordinate_descent(\n",
      "C:\\Users\\Expert\\Documents\\Desktop\\soft\\ANACONDA\\lib\\site-packages\\sklearn\\linear_model\\_coordinate_descent.py:529: ConvergenceWarning: Objective did not converge. You might want to increase the number of iterations. Duality gap: 7.988854116468195e+16, tolerance: 1.4443337159897028e+16\n",
      "  model = cd_fast.enet_coordinate_descent(\n",
      "C:\\Users\\Expert\\Documents\\Desktop\\soft\\ANACONDA\\lib\\site-packages\\sklearn\\linear_model\\_coordinate_descent.py:529: ConvergenceWarning: Objective did not converge. You might want to increase the number of iterations. Duality gap: 2.94715539498101e+17, tolerance: 1.4443337159897028e+16\n",
      "  model = cd_fast.enet_coordinate_descent(\n"
     ]
    }
   ],
   "source": [
    "scores={}\n",
    "for i in alpha:\n",
    "    model=ElasticNet(alpha=i)\n",
    "    model.fit(xtrain,ytrain)\n",
    "    ypred=model.predict(xtest)\n",
    "    mse=mean_squared_error(ytest,ypred)\n",
    "    rmse=np.sqrt(mse)\n",
    "    mae=mean_absolute_error(ytest,ypred)\n",
    "    scores[i]=model.score(xtest,ytest)\n",
    "    print(\" For Alpha = {} | R-square :{} MSE :{} RMSE :{} MAE:{} \".format(i,model.score(xtest,ytest),mse,rmse,mae))"
   ]
  },
  {
   "cell_type": "code",
   "execution_count": 91,
   "metadata": {},
   "outputs": [
    {
     "data": {
      "text/plain": [
       "{0.0001: 0.9995890396409152,\n",
       " 0.001: 0.9995891567267133,\n",
       " 0.01: 0.9995900269293596,\n",
       " 0.1: 0.9995775222990155,\n",
       " 0.3: 0.9994958623170251,\n",
       " 0.5: 0.999404965849462,\n",
       " 1: 0.9992191624742677,\n",
       " 10: 0.9971369356102098}"
      ]
     },
     "execution_count": 91,
     "metadata": {},
     "output_type": "execute_result"
    }
   ],
   "source": [
    "scores"
   ]
  },
  {
   "cell_type": "code",
   "execution_count": 92,
   "metadata": {},
   "outputs": [
    {
     "data": {
      "text/plain": [
       "0.01"
      ]
     },
     "execution_count": 92,
     "metadata": {},
     "output_type": "execute_result"
    }
   ],
   "source": [
    "#get the max score and its key\n",
    "max(scores, key= lambda x: scores[x])"
   ]
  },
  {
   "cell_type": "code",
   "execution_count": 93,
   "metadata": {},
   "outputs": [
    {
     "name": "stderr",
     "output_type": "stream",
     "text": [
      "C:\\Users\\Expert\\Documents\\Desktop\\soft\\ANACONDA\\lib\\site-packages\\sklearn\\linear_model\\_coordinate_descent.py:525: ConvergenceWarning: Objective did not converge. You might want to increase the number of iterations. Duality gap: 6.115057073648522e+16, tolerance: 1.1129235736855502e+16\n",
      "  model = cd_fast.enet_coordinate_descent_gram(\n",
      "C:\\Users\\Expert\\Documents\\Desktop\\soft\\ANACONDA\\lib\\site-packages\\sklearn\\linear_model\\_coordinate_descent.py:525: ConvergenceWarning: Objective did not converge. You might want to increase the number of iterations. Duality gap: 4.33610070023888e+16, tolerance: 1.1129235736855502e+16\n",
      "  model = cd_fast.enet_coordinate_descent_gram(\n",
      "C:\\Users\\Expert\\Documents\\Desktop\\soft\\ANACONDA\\lib\\site-packages\\sklearn\\linear_model\\_coordinate_descent.py:525: ConvergenceWarning: Objective did not converge. You might want to increase the number of iterations. Duality gap: 3.454574358079385e+16, tolerance: 1.1129235736855502e+16\n",
      "  model = cd_fast.enet_coordinate_descent_gram(\n",
      "C:\\Users\\Expert\\Documents\\Desktop\\soft\\ANACONDA\\lib\\site-packages\\sklearn\\linear_model\\_coordinate_descent.py:525: ConvergenceWarning: Objective did not converge. You might want to increase the number of iterations. Duality gap: 2.333470630681305e+16, tolerance: 1.1129235736855502e+16\n",
      "  model = cd_fast.enet_coordinate_descent_gram(\n",
      "C:\\Users\\Expert\\Documents\\Desktop\\soft\\ANACONDA\\lib\\site-packages\\sklearn\\linear_model\\_coordinate_descent.py:525: ConvergenceWarning: Objective did not converge. You might want to increase the number of iterations. Duality gap: 1.671029382422409e+16, tolerance: 1.1129235736855502e+16\n",
      "  model = cd_fast.enet_coordinate_descent_gram(\n",
      "C:\\Users\\Expert\\Documents\\Desktop\\soft\\ANACONDA\\lib\\site-packages\\sklearn\\linear_model\\_coordinate_descent.py:525: ConvergenceWarning: Objective did not converge. You might want to increase the number of iterations. Duality gap: 1.5943082665466362e+16, tolerance: 1.1129235736855502e+16\n",
      "  model = cd_fast.enet_coordinate_descent_gram(\n",
      "C:\\Users\\Expert\\Documents\\Desktop\\soft\\ANACONDA\\lib\\site-packages\\sklearn\\linear_model\\_coordinate_descent.py:525: ConvergenceWarning: Objective did not converge. You might want to increase the number of iterations. Duality gap: 1.5863994977291658e+16, tolerance: 1.1129235736855502e+16\n",
      "  model = cd_fast.enet_coordinate_descent_gram(\n",
      "C:\\Users\\Expert\\Documents\\Desktop\\soft\\ANACONDA\\lib\\site-packages\\sklearn\\linear_model\\_coordinate_descent.py:525: ConvergenceWarning: Objective did not converge. You might want to increase the number of iterations. Duality gap: 6.682607019811031e+16, tolerance: 1.1490878516193264e+16\n",
      "  model = cd_fast.enet_coordinate_descent_gram(\n",
      "C:\\Users\\Expert\\Documents\\Desktop\\soft\\ANACONDA\\lib\\site-packages\\sklearn\\linear_model\\_coordinate_descent.py:525: ConvergenceWarning: Objective did not converge. You might want to increase the number of iterations. Duality gap: 4.783050827890261e+16, tolerance: 1.1490878516193264e+16\n",
      "  model = cd_fast.enet_coordinate_descent_gram(\n",
      "C:\\Users\\Expert\\Documents\\Desktop\\soft\\ANACONDA\\lib\\site-packages\\sklearn\\linear_model\\_coordinate_descent.py:525: ConvergenceWarning: Objective did not converge. You might want to increase the number of iterations. Duality gap: 3.825890245234166e+16, tolerance: 1.1490878516193264e+16\n",
      "  model = cd_fast.enet_coordinate_descent_gram(\n",
      "C:\\Users\\Expert\\Documents\\Desktop\\soft\\ANACONDA\\lib\\site-packages\\sklearn\\linear_model\\_coordinate_descent.py:525: ConvergenceWarning: Objective did not converge. You might want to increase the number of iterations. Duality gap: 2.610377825518756e+16, tolerance: 1.1490878516193264e+16\n",
      "  model = cd_fast.enet_coordinate_descent_gram(\n",
      "C:\\Users\\Expert\\Documents\\Desktop\\soft\\ANACONDA\\lib\\site-packages\\sklearn\\linear_model\\_coordinate_descent.py:525: ConvergenceWarning: Objective did not converge. You might want to increase the number of iterations. Duality gap: 1.906717334179151e+16, tolerance: 1.1490878516193264e+16\n",
      "  model = cd_fast.enet_coordinate_descent_gram(\n",
      "C:\\Users\\Expert\\Documents\\Desktop\\soft\\ANACONDA\\lib\\site-packages\\sklearn\\linear_model\\_coordinate_descent.py:525: ConvergenceWarning: Objective did not converge. You might want to increase the number of iterations. Duality gap: 1.8277901093945412e+16, tolerance: 1.1490878516193264e+16\n",
      "  model = cd_fast.enet_coordinate_descent_gram(\n",
      "C:\\Users\\Expert\\Documents\\Desktop\\soft\\ANACONDA\\lib\\site-packages\\sklearn\\linear_model\\_coordinate_descent.py:525: ConvergenceWarning: Objective did not converge. You might want to increase the number of iterations. Duality gap: 1.819789182345177e+16, tolerance: 1.1490878516193264e+16\n",
      "  model = cd_fast.enet_coordinate_descent_gram(\n",
      "C:\\Users\\Expert\\Documents\\Desktop\\soft\\ANACONDA\\lib\\site-packages\\sklearn\\linear_model\\_coordinate_descent.py:525: ConvergenceWarning: Objective did not converge. You might want to increase the number of iterations. Duality gap: 6.503609271806215e+16, tolerance: 1.2152336539472854e+16\n",
      "  model = cd_fast.enet_coordinate_descent_gram(\n",
      "C:\\Users\\Expert\\Documents\\Desktop\\soft\\ANACONDA\\lib\\site-packages\\sklearn\\linear_model\\_coordinate_descent.py:525: ConvergenceWarning: Objective did not converge. You might want to increase the number of iterations. Duality gap: 4.528058680857349e+16, tolerance: 1.2152336539472854e+16\n",
      "  model = cd_fast.enet_coordinate_descent_gram(\n",
      "C:\\Users\\Expert\\Documents\\Desktop\\soft\\ANACONDA\\lib\\site-packages\\sklearn\\linear_model\\_coordinate_descent.py:525: ConvergenceWarning: Objective did not converge. You might want to increase the number of iterations. Duality gap: 3.5512339986704984e+16, tolerance: 1.2152336539472854e+16\n",
      "  model = cd_fast.enet_coordinate_descent_gram(\n",
      "C:\\Users\\Expert\\Documents\\Desktop\\soft\\ANACONDA\\lib\\site-packages\\sklearn\\linear_model\\_coordinate_descent.py:525: ConvergenceWarning: Objective did not converge. You might want to increase the number of iterations. Duality gap: 2.3427224295825344e+16, tolerance: 1.2152336539472854e+16\n",
      "  model = cd_fast.enet_coordinate_descent_gram(\n",
      "C:\\Users\\Expert\\Documents\\Desktop\\soft\\ANACONDA\\lib\\site-packages\\sklearn\\linear_model\\_coordinate_descent.py:525: ConvergenceWarning: Objective did not converge. You might want to increase the number of iterations. Duality gap: 1.664368795253461e+16, tolerance: 1.2152336539472854e+16\n",
      "  model = cd_fast.enet_coordinate_descent_gram(\n",
      "C:\\Users\\Expert\\Documents\\Desktop\\soft\\ANACONDA\\lib\\site-packages\\sklearn\\linear_model\\_coordinate_descent.py:525: ConvergenceWarning: Objective did not converge. You might want to increase the number of iterations. Duality gap: 1.5891255108043436e+16, tolerance: 1.2152336539472854e+16\n",
      "  model = cd_fast.enet_coordinate_descent_gram(\n",
      "C:\\Users\\Expert\\Documents\\Desktop\\soft\\ANACONDA\\lib\\site-packages\\sklearn\\linear_model\\_coordinate_descent.py:525: ConvergenceWarning: Objective did not converge. You might want to increase the number of iterations. Duality gap: 1.581487810672528e+16, tolerance: 1.2152336539472854e+16\n",
      "  model = cd_fast.enet_coordinate_descent_gram(\n",
      "C:\\Users\\Expert\\Documents\\Desktop\\soft\\ANACONDA\\lib\\site-packages\\sklearn\\linear_model\\_coordinate_descent.py:525: ConvergenceWarning: Objective did not converge. You might want to increase the number of iterations. Duality gap: 5.740819943716683e+16, tolerance: 1.2351151991728038e+16\n",
      "  model = cd_fast.enet_coordinate_descent_gram(\n",
      "C:\\Users\\Expert\\Documents\\Desktop\\soft\\ANACONDA\\lib\\site-packages\\sklearn\\linear_model\\_coordinate_descent.py:525: ConvergenceWarning: Objective did not converge. You might want to increase the number of iterations. Duality gap: 3.885759410150088e+16, tolerance: 1.2351151991728038e+16\n",
      "  model = cd_fast.enet_coordinate_descent_gram(\n",
      "C:\\Users\\Expert\\Documents\\Desktop\\soft\\ANACONDA\\lib\\site-packages\\sklearn\\linear_model\\_coordinate_descent.py:525: ConvergenceWarning: Objective did not converge. You might want to increase the number of iterations. Duality gap: 2.9914879820402e+16, tolerance: 1.2351151991728038e+16\n",
      "  model = cd_fast.enet_coordinate_descent_gram(\n",
      "C:\\Users\\Expert\\Documents\\Desktop\\soft\\ANACONDA\\lib\\site-packages\\sklearn\\linear_model\\_coordinate_descent.py:525: ConvergenceWarning: Objective did not converge. You might want to increase the number of iterations. Duality gap: 1.90108910115806e+16, tolerance: 1.2351151991728038e+16\n",
      "  model = cd_fast.enet_coordinate_descent_gram(\n",
      "C:\\Users\\Expert\\Documents\\Desktop\\soft\\ANACONDA\\lib\\site-packages\\sklearn\\linear_model\\_coordinate_descent.py:525: ConvergenceWarning: Objective did not converge. You might want to increase the number of iterations. Duality gap: 1.290733017720996e+16, tolerance: 1.2351151991728038e+16\n",
      "  model = cd_fast.enet_coordinate_descent_gram(\n",
      "C:\\Users\\Expert\\Documents\\Desktop\\soft\\ANACONDA\\lib\\site-packages\\sklearn\\linear_model\\_coordinate_descent.py:525: ConvergenceWarning: Objective did not converge. You might want to increase the number of iterations. Duality gap: 6.510592279450763e+16, tolerance: 1.0183429016933188e+16\n",
      "  model = cd_fast.enet_coordinate_descent_gram(\n",
      "C:\\Users\\Expert\\Documents\\Desktop\\soft\\ANACONDA\\lib\\site-packages\\sklearn\\linear_model\\_coordinate_descent.py:525: ConvergenceWarning: Objective did not converge. You might want to increase the number of iterations. Duality gap: 4.569365590419904e+16, tolerance: 1.0183429016933188e+16\n",
      "  model = cd_fast.enet_coordinate_descent_gram(\n",
      "C:\\Users\\Expert\\Documents\\Desktop\\soft\\ANACONDA\\lib\\site-packages\\sklearn\\linear_model\\_coordinate_descent.py:525: ConvergenceWarning: Objective did not converge. You might want to increase the number of iterations. Duality gap: 3.606020969371824e+16, tolerance: 1.0183429016933188e+16\n",
      "  model = cd_fast.enet_coordinate_descent_gram(\n",
      "C:\\Users\\Expert\\Documents\\Desktop\\soft\\ANACONDA\\lib\\site-packages\\sklearn\\linear_model\\_coordinate_descent.py:525: ConvergenceWarning: Objective did not converge. You might want to increase the number of iterations. Duality gap: 2.386714385913635e+16, tolerance: 1.0183429016933188e+16\n",
      "  model = cd_fast.enet_coordinate_descent_gram(\n",
      "C:\\Users\\Expert\\Documents\\Desktop\\soft\\ANACONDA\\lib\\site-packages\\sklearn\\linear_model\\_coordinate_descent.py:525: ConvergenceWarning: Objective did not converge. You might want to increase the number of iterations. Duality gap: 1.671683297659641e+16, tolerance: 1.0183429016933188e+16\n",
      "  model = cd_fast.enet_coordinate_descent_gram(\n",
      "C:\\Users\\Expert\\Documents\\Desktop\\soft\\ANACONDA\\lib\\site-packages\\sklearn\\linear_model\\_coordinate_descent.py:525: ConvergenceWarning: Objective did not converge. You might want to increase the number of iterations. Duality gap: 1.5896085117504236e+16, tolerance: 1.0183429016933188e+16\n",
      "  model = cd_fast.enet_coordinate_descent_gram(\n",
      "C:\\Users\\Expert\\Documents\\Desktop\\soft\\ANACONDA\\lib\\site-packages\\sklearn\\linear_model\\_coordinate_descent.py:525: ConvergenceWarning: Objective did not converge. You might want to increase the number of iterations. Duality gap: 1.5812638964084732e+16, tolerance: 1.0183429016933188e+16\n",
      "  model = cd_fast.enet_coordinate_descent_gram(\n",
      "C:\\Users\\Expert\\Documents\\Desktop\\soft\\ANACONDA\\lib\\site-packages\\sklearn\\linear_model\\_coordinate_descent.py:529: ConvergenceWarning: Objective did not converge. You might want to increase the number of iterations. Duality gap: 2.1553494817693212e+16, tolerance: 1.4443337159897028e+16\n",
      "  model = cd_fast.enet_coordinate_descent(\n"
     ]
    },
    {
     "data": {
      "text/plain": [
       "ElasticNetCV(alphas=[0.0001, 0.001, 0.01, 0.1, 0.3, 0.5, 1, 10], cv=5)"
      ]
     },
     "execution_count": 93,
     "metadata": {},
     "output_type": "execute_result"
    }
   ],
   "source": [
    "from sklearn.linear_model import ElasticNetCV\n",
    "model= ElasticNetCV(alphas=alpha,cv=5)\n",
    "model.fit(xtrain,ytrain)"
   ]
  },
  {
   "cell_type": "code",
   "execution_count": 94,
   "metadata": {},
   "outputs": [
    {
     "name": "stdout",
     "output_type": "stream",
     "text": [
      "0.01\n",
      "-78213628734.61835\n"
     ]
    }
   ],
   "source": [
    "print(model.alpha_)\n",
    "print(model.intercept_)"
   ]
  },
  {
   "cell_type": "code",
   "execution_count": 95,
   "metadata": {},
   "outputs": [],
   "source": [
    "ypred=model.predict(xtest)"
   ]
  },
  {
   "cell_type": "code",
   "execution_count": 96,
   "metadata": {},
   "outputs": [
    {
     "data": {
      "text/plain": [
       "0.9995900269293596"
      ]
     },
     "execution_count": 96,
     "metadata": {},
     "output_type": "execute_result"
    }
   ],
   "source": [
    "model.score(xtest,ytest)"
   ]
  },
  {
   "cell_type": "code",
   "execution_count": 97,
   "metadata": {},
   "outputs": [
    {
     "data": {
      "text/plain": [
       "713247772930144.9"
      ]
     },
     "execution_count": 97,
     "metadata": {},
     "output_type": "execute_result"
    }
   ],
   "source": [
    "mean_squared_error(ytest,ypred)"
   ]
  },
  {
   "cell_type": "code",
   "execution_count": 98,
   "metadata": {},
   "outputs": [
    {
     "data": {
      "text/plain": [
       "21925099.349983215"
      ]
     },
     "execution_count": 98,
     "metadata": {},
     "output_type": "execute_result"
    }
   ],
   "source": [
    "mean_absolute_error(ytest,ypred)"
   ]
  },
  {
   "cell_type": "code",
   "execution_count": null,
   "metadata": {},
   "outputs": [],
   "source": []
  }
 ],
 "metadata": {
  "kernelspec": {
   "display_name": "Python 3",
   "language": "python",
   "name": "python3"
  },
  "language_info": {
   "codemirror_mode": {
    "name": "ipython",
    "version": 3
   },
   "file_extension": ".py",
   "mimetype": "text/x-python",
   "name": "python",
   "nbconvert_exporter": "python",
   "pygments_lexer": "ipython3",
   "version": "3.8.3"
  }
 },
 "nbformat": 4,
 "nbformat_minor": 4
}
