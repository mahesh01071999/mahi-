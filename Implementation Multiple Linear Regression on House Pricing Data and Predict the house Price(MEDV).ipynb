{
 "cells": [
  {
   "cell_type": "code",
   "execution_count": 6,
   "metadata": {},
   "outputs": [],
   "source": [
    "import pandas as pd\n",
    "import numpy as np\n",
    "import seaborn as sns\n",
    "import matplotlib.pyplot as plt\n",
    "from sklearn.model_selection import train_test_split\n",
    "from sklearn.linear_model import LinearRegression "
   ]
  },
  {
   "cell_type": "code",
   "execution_count": 7,
   "metadata": {},
   "outputs": [],
   "source": [
    "df=pd.read_csv(\"C:\\\\Users\\\\Expert\\\\Downloads\\\\housing.csv.csv\")"
   ]
  },
  {
   "cell_type": "code",
   "execution_count": 8,
   "metadata": {},
   "outputs": [
    {
     "data": {
      "text/html": [
       "<div>\n",
       "<style scoped>\n",
       "    .dataframe tbody tr th:only-of-type {\n",
       "        vertical-align: middle;\n",
       "    }\n",
       "\n",
       "    .dataframe tbody tr th {\n",
       "        vertical-align: top;\n",
       "    }\n",
       "\n",
       "    .dataframe thead th {\n",
       "        text-align: right;\n",
       "    }\n",
       "</style>\n",
       "<table border=\"1\" class=\"dataframe\">\n",
       "  <thead>\n",
       "    <tr style=\"text-align: right;\">\n",
       "      <th></th>\n",
       "      <th>RM</th>\n",
       "      <th>LSTAT</th>\n",
       "      <th>PTRATIO</th>\n",
       "      <th>MEDV</th>\n",
       "    </tr>\n",
       "  </thead>\n",
       "  <tbody>\n",
       "    <tr>\n",
       "      <th>0</th>\n",
       "      <td>6.575</td>\n",
       "      <td>4.98</td>\n",
       "      <td>15.3</td>\n",
       "      <td>504000</td>\n",
       "    </tr>\n",
       "    <tr>\n",
       "      <th>1</th>\n",
       "      <td>6.421</td>\n",
       "      <td>9.14</td>\n",
       "      <td>17.8</td>\n",
       "      <td>453600</td>\n",
       "    </tr>\n",
       "    <tr>\n",
       "      <th>2</th>\n",
       "      <td>7.185</td>\n",
       "      <td>4.03</td>\n",
       "      <td>17.8</td>\n",
       "      <td>728700</td>\n",
       "    </tr>\n",
       "    <tr>\n",
       "      <th>3</th>\n",
       "      <td>6.998</td>\n",
       "      <td>2.94</td>\n",
       "      <td>18.7</td>\n",
       "      <td>701400</td>\n",
       "    </tr>\n",
       "    <tr>\n",
       "      <th>4</th>\n",
       "      <td>7.147</td>\n",
       "      <td>5.33</td>\n",
       "      <td>18.7</td>\n",
       "      <td>760200</td>\n",
       "    </tr>\n",
       "  </tbody>\n",
       "</table>\n",
       "</div>"
      ],
      "text/plain": [
       "      RM  LSTAT  PTRATIO    MEDV\n",
       "0  6.575   4.98     15.3  504000\n",
       "1  6.421   9.14     17.8  453600\n",
       "2  7.185   4.03     17.8  728700\n",
       "3  6.998   2.94     18.7  701400\n",
       "4  7.147   5.33     18.7  760200"
      ]
     },
     "execution_count": 8,
     "metadata": {},
     "output_type": "execute_result"
    }
   ],
   "source": [
    "df.head()"
   ]
  },
  {
   "cell_type": "code",
   "execution_count": 9,
   "metadata": {},
   "outputs": [
    {
     "name": "stdout",
     "output_type": "stream",
     "text": [
      "<class 'pandas.core.frame.DataFrame'>\n",
      "RangeIndex: 489 entries, 0 to 488\n",
      "Data columns (total 4 columns):\n",
      " #   Column   Non-Null Count  Dtype  \n",
      "---  ------   --------------  -----  \n",
      " 0   RM       489 non-null    float64\n",
      " 1   LSTAT    489 non-null    float64\n",
      " 2   PTRATIO  489 non-null    float64\n",
      " 3   MEDV     489 non-null    int64  \n",
      "dtypes: float64(3), int64(1)\n",
      "memory usage: 15.4 KB\n"
     ]
    }
   ],
   "source": [
    "df.info()"
   ]
  },
  {
   "cell_type": "code",
   "execution_count": 10,
   "metadata": {},
   "outputs": [
    {
     "data": {
      "text/plain": [
       "RM         float64\n",
       "LSTAT      float64\n",
       "PTRATIO    float64\n",
       "MEDV         int64\n",
       "dtype: object"
      ]
     },
     "execution_count": 10,
     "metadata": {},
     "output_type": "execute_result"
    }
   ],
   "source": [
    "df.dtypes"
   ]
  },
  {
   "cell_type": "code",
   "execution_count": 11,
   "metadata": {},
   "outputs": [
    {
     "data": {
      "text/plain": [
       "RM         0\n",
       "LSTAT      0\n",
       "PTRATIO    0\n",
       "MEDV       0\n",
       "dtype: int64"
      ]
     },
     "execution_count": 11,
     "metadata": {},
     "output_type": "execute_result"
    }
   ],
   "source": [
    "df.isnull().sum()"
   ]
  },
  {
   "cell_type": "code",
   "execution_count": 12,
   "metadata": {},
   "outputs": [
    {
     "data": {
      "text/plain": [
       "0      False\n",
       "1      False\n",
       "2      False\n",
       "3      False\n",
       "4      False\n",
       "       ...  \n",
       "484    False\n",
       "485    False\n",
       "486    False\n",
       "487    False\n",
       "488    False\n",
       "Length: 489, dtype: bool"
      ]
     },
     "execution_count": 12,
     "metadata": {},
     "output_type": "execute_result"
    }
   ],
   "source": [
    "df.duplicated()"
   ]
  },
  {
   "cell_type": "code",
   "execution_count": 13,
   "metadata": {},
   "outputs": [
    {
     "data": {
      "text/plain": [
       "(489, 4)"
      ]
     },
     "execution_count": 13,
     "metadata": {},
     "output_type": "execute_result"
    }
   ],
   "source": [
    "df.shape"
   ]
  },
  {
   "cell_type": "code",
   "execution_count": 14,
   "metadata": {},
   "outputs": [
    {
     "data": {
      "text/plain": [
       "<matplotlib.axes._subplots.AxesSubplot at 0x1a702769280>"
      ]
     },
     "execution_count": 14,
     "metadata": {},
     "output_type": "execute_result"
    },
    {
     "data": {
      "image/png": "[encoded data removed]",
      "text/plain": [
       "<Figure size 432x288 with 2 Axes>"
      ]
     },
     "metadata": {
      "needs_background": "light"
     },
     "output_type": "display_data"
    }
   ],
   "source": [
    "sns.heatmap(df.corr(),annot=True)"
   ]
  },
  {
   "cell_type": "code",
   "execution_count": 15,
   "metadata": {},
   "outputs": [
    {
     "data": {
      "text/plain": [
       "<seaborn.axisgrid.PairGrid at 0x1a702738670>"
      ]
     },
     "execution_count": 15,
     "metadata": {},
     "output_type": "execute_result"
    },
    {
     "data": {
      "image/png": "[encoded data removed]",
      "text/plain": [
       "<Figure size 360x180 with 2 Axes>"
      ]
     },
     "metadata": {
      "needs_background": "light"
     },
     "output_type": "display_data"
    }
   ],
   "source": [
    "sns.pairplot(x_vars=[\"RM\",\"LSTAT\"],y_vars=[\"MEDV\"],data=df)"
   ]
  },
  {
   "cell_type": "code",
   "execution_count": 16,
   "metadata": {},
   "outputs": [],
   "source": [
    "x=df.drop(columns=[\"MEDV\",\"PTRATIO\"])\n",
    "y=df[\"MEDV\"]"
   ]
  },
  {
   "cell_type": "code",
   "execution_count": 17,
   "metadata": {},
   "outputs": [],
   "source": [
    "from sklearn.model_selection import train_test_split\n"
   ]
  },
  {
   "cell_type": "code",
   "execution_count": 18,
   "metadata": {},
   "outputs": [],
   "source": [
    "xtrain,xtest,ytrain,ytest=train_test_split(x,y, test_size=(0.2),random_state=0)"
   ]
  },
  {
   "cell_type": "code",
   "execution_count": 19,
   "metadata": {},
   "outputs": [
    {
     "data": {
      "text/plain": [
       "LinearRegression()"
      ]
     },
     "execution_count": 19,
     "metadata": {},
     "output_type": "execute_result"
    }
   ],
   "source": [
    "from sklearn.linear_model import LinearRegression\n",
    "model=LinearRegression()\n",
    "model.fit(xtrain,ytrain)"
   ]
  },
  {
   "cell_type": "code",
   "execution_count": 20,
   "metadata": {},
   "outputs": [],
   "source": [
    "ypred=model.predict(xtest)"
   ]
  },
  {
   "cell_type": "code",
   "execution_count": 21,
   "metadata": {},
   "outputs": [
    {
     "data": {
      "text/plain": [
       "array([476216.33103272, 587153.07950837, 193442.88723242, 416587.50964769,\n",
       "       523765.14676232, 380210.88780123, 115901.05173557, 445137.45496029,\n",
       "       467397.87639288, 416565.13564051, 333779.74573252, 380371.5273962 ,\n",
       "       504956.30140163,  23712.36692555, 543334.72925268, 351660.27397165,\n",
       "       469372.69199653, 550975.18649254, 373165.77219854, 607372.44239377,\n",
       "       572567.11717075, 645938.95819672, -20768.13114734, 473651.88243536,\n",
       "       364287.24121461, 710662.63808736, 619162.6335395 , 706205.15572065,\n",
       "       462428.45548621, 433502.4763843 , 396186.40174758, 384750.04672173,\n",
       "       488866.48291431, 626925.39374369, 460249.09712797, 779662.1606105 ,\n",
       "       495652.79334227, 265900.43404515, 512425.75978602, 569810.91697368,\n",
       "       334561.20138319, 365240.36423772, 421431.42189818, 510333.36289232,\n",
       "       267893.96000814, 391312.18812379, 519729.47000244, 380305.56607089,\n",
       "       758451.1617336 , 416276.45021449, 629158.45128558, 449358.85883492,\n",
       "       580890.79342429, 400056.78829546, 662130.46640787, 559816.36781503,\n",
       "       381675.73880331, 325461.9544602 , 493988.47393534, 501577.59282869,\n",
       "       367607.07097364, 380000.35478492, 387757.65374062, 384511.88901076,\n",
       "       427574.22381105, 343998.64025481, 233978.75739052, 580603.20024796,\n",
       "       536881.71276133, 317185.70551036,  58104.90615757, 551136.56566173,\n",
       "       396774.66087335, 597503.19133031, 391971.26975289, 488994.88142084,\n",
       "       532427.96509969, 461160.78310908, 561196.7234702 , 415345.06690483,\n",
       "       405609.11235991, 702210.91600277, 468790.31785197, 515742.77075194,\n",
       "       439400.10913204, 600792.40126382, 565222.49892556, 559395.83079564,\n",
       "       498465.40623561, 364234.91589889, 412067.48481925, 172407.995784  ,\n",
       "       372574.41266142, 447828.22284528, 525983.47604492, 535088.07893591,\n",
       "       493642.17828286, 581613.5465988 ])"
      ]
     },
     "execution_count": 21,
     "metadata": {},
     "output_type": "execute_result"
    }
   ],
   "source": [
    "ypred"
   ]
  },
  {
   "cell_type": "code",
   "execution_count": 22,
   "metadata": {},
   "outputs": [],
   "source": [
    "from sklearn.metrics import mean_squared_error,mean_absolute_error,r2_score"
   ]
  },
  {
   "cell_type": "code",
   "execution_count": 23,
   "metadata": {},
   "outputs": [],
   "source": [
    "mse=mean_squared_error(ytest,ypred)"
   ]
  },
  {
   "cell_type": "code",
   "execution_count": 24,
   "metadata": {},
   "outputs": [
    {
     "data": {
      "text/plain": [
       "11479476853.820759"
      ]
     },
     "execution_count": 24,
     "metadata": {},
     "output_type": "execute_result"
    }
   ],
   "source": [
    "mse"
   ]
  },
  {
   "cell_type": "code",
   "execution_count": 25,
   "metadata": {},
   "outputs": [],
   "source": [
    "mae=mean_absolute_error(ytest,ypred)"
   ]
  },
  {
   "cell_type": "code",
   "execution_count": 26,
   "metadata": {},
   "outputs": [
    {
     "data": {
      "text/plain": [
       "79890.01912206096"
      ]
     },
     "execution_count": 26,
     "metadata": {},
     "output_type": "execute_result"
    }
   ],
   "source": [
    "mae"
   ]
  },
  {
   "cell_type": "code",
   "execution_count": 27,
   "metadata": {},
   "outputs": [
    {
     "data": {
      "text/plain": [
       "0.5957692986235191"
      ]
     },
     "execution_count": 27,
     "metadata": {},
     "output_type": "execute_result"
    }
   ],
   "source": [
    "r2_score(ytest,ypred)"
   ]
  },
  {
   "cell_type": "code",
   "execution_count": 28,
   "metadata": {},
   "outputs": [],
   "source": [
    "rmse=np.sqrt(mse)"
   ]
  },
  {
   "cell_type": "code",
   "execution_count": 29,
   "metadata": {},
   "outputs": [
    {
     "data": {
      "text/plain": [
       "107142.32055458179"
      ]
     },
     "execution_count": 29,
     "metadata": {},
     "output_type": "execute_result"
    }
   ],
   "source": [
    "rmse"
   ]
  },
  {
   "cell_type": "code",
   "execution_count": 30,
   "metadata": {},
   "outputs": [],
   "source": [
    "#scaling the data and then result on training and testing data"
   ]
  },
  {
   "cell_type": "code",
   "execution_count": 31,
   "metadata": {},
   "outputs": [],
   "source": [
    "from sklearn.preprocessing import MinMaxScaler"
   ]
  },
  {
   "cell_type": "code",
   "execution_count": 34,
   "metadata": {},
   "outputs": [],
   "source": [
    "from sklearn.preprocessing import MinMaxScaler\n",
    "mm=MinMaxScaler()\n",
    "mm.fit(xtrain)\n",
    "mm_xtrain=mm.transform(xtrain)\n",
    "mm_xtest=mm.transform(xtest)"
   ]
  },
  {
   "cell_type": "code",
   "execution_count": 35,
   "metadata": {},
   "outputs": [
    {
     "data": {
      "text/plain": [
       "LinearRegression()"
      ]
     },
     "execution_count": 35,
     "metadata": {},
     "output_type": "execute_result"
    }
   ],
   "source": [
    "model=LinearRegression()\n",
    "model.fit(mm_xtrain,ytrain)"
   ]
  },
  {
   "cell_type": "code",
   "execution_count": 36,
   "metadata": {},
   "outputs": [],
   "source": [
    "mm_ypred=model.predict(mm_xtest)"
   ]
  },
  {
   "cell_type": "code",
   "execution_count": 37,
   "metadata": {},
   "outputs": [
    {
     "name": "stdout",
     "output_type": "stream",
     "text": [
      "MSE: 11479476853.820751\n",
      "RMSE: 107142.32055458175\n",
      "MAE: 79890.01912206096\n",
      "R-squared : 0.5957692986235193\n"
     ]
    }
   ],
   "source": [
    "mse=mean_squared_error(ytest,mm_ypred)\n",
    "print(\"MSE:\",mse)\n",
    "print(\"RMSE:\",np.sqrt(mse))\n",
    "mae=mean_absolute_error(ytest,mm_ypred)\n",
    "print(\"MAE:\",mae)\n",
    "score=r2_score(ytest,mm_ypred)\n",
    "print(\"R-squared :\",score)"
   ]
  },
  {
   "cell_type": "markdown",
   "metadata": {},
   "source": [
    "#Polynomial Regression\n"
   ]
  },
  {
   "cell_type": "code",
   "execution_count": 39,
   "metadata": {},
   "outputs": [],
   "source": [
    "from sklearn.preprocessing import PolynomialFeatures\n",
    "pf=PolynomialFeatures(degree=5)\n",
    "poly_xtrain=pf.fit_transform(xtrain)\n",
    "poly_xtest=pf.fit_transform(xtest)"
   ]
  },
  {
   "cell_type": "code",
   "execution_count": 40,
   "metadata": {},
   "outputs": [
    {
     "data": {
      "text/plain": [
       "array([[1.00000000e+00, 6.20900000e+00, 1.32200000e+01, ...,\n",
       "        8.90712783e+04, 1.89647657e+05, 4.03791596e+05],\n",
       "       [1.00000000e+00, 5.42700000e+00, 1.81400000e+01, ...,\n",
       "        1.75805109e+05, 5.87636756e+05, 1.96420320e+06],\n",
       "       [1.00000000e+00, 5.34900000e+00, 1.97700000e+01, ...,\n",
       "        2.21088017e+05, 8.17145278e+05, 3.02018361e+06],\n",
       "       ...,\n",
       "       [1.00000000e+00, 6.02100000e+00, 1.03000000e+01, ...,\n",
       "        3.96140211e+04, 6.77668855e+04, 1.15927407e+05],\n",
       "       [1.00000000e+00, 6.03000000e+00, 1.88000000e+01, ...,\n",
       "        2.41606254e+05, 7.53266597e+05, 2.34849287e+06],\n",
       "       [1.00000000e+00, 6.02000000e+00, 1.01100000e+01, ...,\n",
       "        3.74495367e+04, 6.28928266e+04, 1.05622338e+05]])"
      ]
     },
     "execution_count": 40,
     "metadata": {},
     "output_type": "execute_result"
    }
   ],
   "source": [
    "poly_xtrain"
   ]
  },
  {
   "cell_type": "code",
   "execution_count": 41,
   "metadata": {},
   "outputs": [
    {
     "data": {
      "text/plain": [
       "array([[1.00000000e+00, 5.83400000e+00, 8.47000000e+00, ...,\n",
       "        2.06815498e+04, 3.00261788e+04, 4.35930295e+04],\n",
       "       [1.00000000e+00, 6.84200000e+00, 6.90000000e+00, ...,\n",
       "        1.53784800e+04, 1.55088442e+04, 1.56403135e+04],\n",
       "       [1.00000000e+00, 5.40300000e+00, 2.68200000e+01, ...,\n",
       "        5.63178745e+05, 2.79556801e+06, 1.38769450e+07],\n",
       "       ...,\n",
       "       [1.00000000e+00, 6.12200000e+00, 5.98000000e+00, ...,\n",
       "        8.01475410e+03, 7.82885161e+03, 7.64726112e+03],\n",
       "       [1.00000000e+00, 6.12000000e+00, 9.08000000e+00, ...,\n",
       "        2.80388624e+04, 4.16001423e+04, 6.17204726e+04],\n",
       "       [1.00000000e+00, 6.54600000e+00, 5.33000000e+00, ...,\n",
       "        6.48834044e+03, 5.28305141e+03, 4.30165964e+03]])"
      ]
     },
     "execution_count": 41,
     "metadata": {},
     "output_type": "execute_result"
    }
   ],
   "source": [
    "poly_xtest"
   ]
  },
  {
   "cell_type": "code",
   "execution_count": 42,
   "metadata": {},
   "outputs": [
    {
     "data": {
      "text/plain": [
       "LinearRegression()"
      ]
     },
     "execution_count": 42,
     "metadata": {},
     "output_type": "execute_result"
    }
   ],
   "source": [
    "model=LinearRegression()\n",
    "model.fit(poly_xtrain,ytrain)"
   ]
  },
  {
   "cell_type": "code",
   "execution_count": 43,
   "metadata": {},
   "outputs": [],
   "source": [
    "pf_ypred=model.predict(poly_xtest)"
   ]
  },
  {
   "cell_type": "code",
   "execution_count": 44,
   "metadata": {},
   "outputs": [
    {
     "data": {
      "text/plain": [
       "array([435117.57395379, 597885.19808544, 261937.85342701, 272192.09204911,\n",
       "       498341.68799318, 291569.81559815, 224861.28184979, 426489.35924859,\n",
       "       446055.6119542 , 407802.86510091, 266729.50863649, 380527.31066994,\n",
       "       459321.39449303, 215135.72924137, 530479.50294767, 356067.74769829,\n",
       "       442941.5250095 , 528786.42880319, 375620.79248463, 613130.16632189,\n",
       "       598009.60857983, 716073.11557154, 180065.13310187, 437334.06648441,\n",
       "       389593.37571226, 873917.36242972, 695349.15880083, 864452.15666597,\n",
       "       424263.15201263, 420981.49127547, 301688.80381863, 379475.77804856,\n",
       "       463815.81631373, 664290.84982775, 435150.63167335, 926598.95159684,\n",
       "       465668.22987865, 282778.5525092 , 486538.50695686, 530325.71947758,\n",
       "       272123.19342463, 276379.92831717, 422479.92081054, 481668.11808963,\n",
       "       300622.65222241, 396237.32809712, 494705.36692654, 329602.32031985,\n",
       "       949630.48544459, 410819.44826587, 670522.87239079, 435948.94410495,\n",
       "       574635.47421415, 331513.65049379, 768813.33707033, 545188.31040923,\n",
       "       394596.17356761, 297738.95517083, 466491.94825919, 457683.45399542,\n",
       "       380319.30155326, 246502.65124069, 385087.68059613, 350519.32769568,\n",
       "       404427.41123925, 343343.47554444, 270995.20100354, 578237.03793587,\n",
       "       516632.55866183, 228575.56113122, 214286.76618128, 526541.37788646,\n",
       "       393654.71418588, 587782.48105915, 239444.12197547, 461840.00762425,\n",
       "       511104.52040564, 347507.42965524, 523050.96067359, 394046.93351786,\n",
       "       413215.19885506, 867895.69040357, 445462.22398381, 491007.09856059,\n",
       "       427003.31185697, 619136.80311687, 542033.14186634, 525875.43374233,\n",
       "       472064.71693067, 309836.15513955, 418293.11742337, 265408.95062123,\n",
       "       357866.44021048, 358286.15800212, 470664.06413873, 474133.68355431,\n",
       "       463363.7893324 , 560492.95104025])"
      ]
     },
     "execution_count": 44,
     "metadata": {},
     "output_type": "execute_result"
    }
   ],
   "source": [
    "pf_ypred"
   ]
  },
  {
   "cell_type": "code",
   "execution_count": 45,
   "metadata": {},
   "outputs": [
    {
     "name": "stdout",
     "output_type": "stream",
     "text": [
      "MSE: 6170743784.095846\n",
      "RMSE: 78554.08190600821\n",
      "MAE: 56722.50390100829\n",
      "R-squared : 0.7827075118820069\n"
     ]
    }
   ],
   "source": [
    "mse=mean_squared_error(ytest,pf_ypred)\n",
    "print(\"MSE:\",mse)\n",
    "print(\"RMSE:\",np.sqrt(mse))\n",
    "mae=mean_absolute_error(ytest,pf_ypred)\n",
    "print(\"MAE:\",mae)\n",
    "score=r2_score(ytest,pf_ypred)\n",
    "print(\"R-squared :\",score)"
   ]
  },
  {
   "cell_type": "markdown",
   "metadata": {},
   "source": [
    "#PREDICTING THE HOUSE PRICE"
   ]
  },
  {
   "cell_type": "code",
   "execution_count": 53,
   "metadata": {},
   "outputs": [],
   "source": [
    "x=df.drop(columns=[\"MEDV\",\"PTRATIO\"])\n",
    "y=df[\"MEDV\"]"
   ]
  },
  {
   "cell_type": "code",
   "execution_count": 54,
   "metadata": {},
   "outputs": [],
   "source": [
    "xtrain,xtest,ytrain,ytest=train_test_split(x,y,test_size=0.2,random_state=0)"
   ]
  },
  {
   "cell_type": "code",
   "execution_count": 55,
   "metadata": {},
   "outputs": [
    {
     "data": {
      "text/html": [
       "<div>\n",
       "<style scoped>\n",
       "    .dataframe tbody tr th:only-of-type {\n",
       "        vertical-align: middle;\n",
       "    }\n",
       "\n",
       "    .dataframe tbody tr th {\n",
       "        vertical-align: top;\n",
       "    }\n",
       "\n",
       "    .dataframe thead th {\n",
       "        text-align: right;\n",
       "    }\n",
       "</style>\n",
       "<table border=\"1\" class=\"dataframe\">\n",
       "  <thead>\n",
       "    <tr style=\"text-align: right;\">\n",
       "      <th></th>\n",
       "      <th>RM</th>\n",
       "      <th>LSTAT</th>\n",
       "    </tr>\n",
       "  </thead>\n",
       "  <tbody>\n",
       "    <tr>\n",
       "      <th>447</th>\n",
       "      <td>6.209</td>\n",
       "      <td>13.22</td>\n",
       "    </tr>\n",
       "    <tr>\n",
       "      <th>457</th>\n",
       "      <td>5.427</td>\n",
       "      <td>18.14</td>\n",
       "    </tr>\n",
       "    <tr>\n",
       "      <th>386</th>\n",
       "      <td>5.349</td>\n",
       "      <td>19.77</td>\n",
       "    </tr>\n",
       "    <tr>\n",
       "      <th>361</th>\n",
       "      <td>6.380</td>\n",
       "      <td>23.69</td>\n",
       "    </tr>\n",
       "    <tr>\n",
       "      <th>221</th>\n",
       "      <td>6.552</td>\n",
       "      <td>3.76</td>\n",
       "    </tr>\n",
       "  </tbody>\n",
       "</table>\n",
       "</div>"
      ],
      "text/plain": [
       "        RM  LSTAT\n",
       "447  6.209  13.22\n",
       "457  5.427  18.14\n",
       "386  5.349  19.77\n",
       "361  6.380  23.69\n",
       "221  6.552   3.76"
      ]
     },
     "execution_count": 55,
     "metadata": {},
     "output_type": "execute_result"
    }
   ],
   "source": [
    "xtrain.head()"
   ]
  },
  {
   "cell_type": "code",
   "execution_count": 56,
   "metadata": {},
   "outputs": [
    {
     "data": {
      "text/plain": [
       "LinearRegression()"
      ]
     },
     "execution_count": 56,
     "metadata": {},
     "output_type": "execute_result"
    }
   ],
   "source": [
    "model=LinearRegression()\n",
    "model.fit(xtrain,ytrain)"
   ]
  },
  {
   "cell_type": "code",
   "execution_count": 57,
   "metadata": {},
   "outputs": [],
   "source": [
    "ypred=model.predict(xtest)"
   ]
  },
  {
   "cell_type": "code",
   "execution_count": 60,
   "metadata": {},
   "outputs": [
    {
     "data": {
      "text/plain": [
       "array([476216.33103272, 587153.07950837, 193442.88723242, 416587.50964769,\n",
       "       523765.14676232, 380210.88780123, 115901.05173557, 445137.45496029,\n",
       "       467397.87639288, 416565.13564051, 333779.74573252, 380371.5273962 ,\n",
       "       504956.30140163,  23712.36692555, 543334.72925268, 351660.27397165,\n",
       "       469372.69199653, 550975.18649254, 373165.77219854, 607372.44239377,\n",
       "       572567.11717075, 645938.95819672, -20768.13114734, 473651.88243536,\n",
       "       364287.24121461, 710662.63808736, 619162.6335395 , 706205.15572065,\n",
       "       462428.45548621, 433502.4763843 , 396186.40174758, 384750.04672173,\n",
       "       488866.48291431, 626925.39374369, 460249.09712797, 779662.1606105 ,\n",
       "       495652.79334227, 265900.43404515, 512425.75978602, 569810.91697368,\n",
       "       334561.20138319, 365240.36423772, 421431.42189818, 510333.36289232,\n",
       "       267893.96000814, 391312.18812379, 519729.47000244, 380305.56607089,\n",
       "       758451.1617336 , 416276.45021449, 629158.45128558, 449358.85883492,\n",
       "       580890.79342429, 400056.78829546, 662130.46640787, 559816.36781503,\n",
       "       381675.73880331, 325461.9544602 , 493988.47393534, 501577.59282869,\n",
       "       367607.07097364, 380000.35478492, 387757.65374062, 384511.88901076,\n",
       "       427574.22381105, 343998.64025481, 233978.75739052, 580603.20024796,\n",
       "       536881.71276133, 317185.70551036,  58104.90615757, 551136.56566173,\n",
       "       396774.66087335, 597503.19133031, 391971.26975289, 488994.88142084,\n",
       "       532427.96509969, 461160.78310908, 561196.7234702 , 415345.06690483,\n",
       "       405609.11235991, 702210.91600277, 468790.31785197, 515742.77075194,\n",
       "       439400.10913204, 600792.40126382, 565222.49892556, 559395.83079564,\n",
       "       498465.40623561, 364234.91589889, 412067.48481925, 172407.995784  ,\n",
       "       372574.41266142, 447828.22284528, 525983.47604492, 535088.07893591,\n",
       "       493642.17828286, 581613.5465988 ])"
      ]
     },
     "execution_count": 60,
     "metadata": {},
     "output_type": "execute_result"
    }
   ],
   "source": [
    "ypred"
   ]
  },
  {
   "cell_type": "code",
   "execution_count": null,
   "metadata": {},
   "outputs": [],
   "source": []
  }
 ],
 "metadata": {
  "kernelspec": {
   "display_name": "Python 3",
   "language": "python",
   "name": "python3"
  }
 },
 "nbformat": 4,
 "nbformat_minor": 4
}
